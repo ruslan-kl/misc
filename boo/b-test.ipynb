{
 "cells": [
  {
   "cell_type": "code",
   "execution_count": 1,
   "metadata": {
    "scrolled": true
   },
   "outputs": [
    {
     "data": {
      "text/html": [
       "<script>requirejs.config({paths: { 'plotly': ['https://cdn.plot.ly/plotly-latest.min']},});if(!window.Plotly) {{require(['plotly'],function(plotly) {window.Plotly=plotly;});}}</script>"
      ],
      "text/vnd.plotly.v1+html": [
       "<script>requirejs.config({paths: { 'plotly': ['https://cdn.plot.ly/plotly-latest.min']},});if(!window.Plotly) {{require(['plotly'],function(plotly) {window.Plotly=plotly;});}}</script>"
      ]
     },
     "metadata": {},
     "output_type": "display_data"
    }
   ],
   "source": [
    "import numpy as np\n",
    "import pandas as pd\n",
    "import seaborn as sns\n",
    "import matplotlib.pyplot as plt\n",
    "import plotly\n",
    "import plotly.graph_objs as go\n",
    "from statistics import mode\n",
    "from plotly.offline import init_notebook_mode, iplot\n",
    "from tqdm import tqdm_notebook\n",
    "from datetime import date, timedelta, datetime\n",
    "from statsmodels.stats.proportion import proportions_ztest\n",
    "plt.style.use('fivethirtyeight') \n",
    "%matplotlib inline \n",
    "pd.options.mode.chained_assignment = None\n",
    "init_notebook_mode(connected=True)"
   ]
  },
  {
   "cell_type": "code",
   "execution_count": 2,
   "metadata": {
    "collapsed": true,
    "scrolled": true
   },
   "outputs": [],
   "source": [
    "Data_raw = pd.read_csv('transactions_dataset.csv')\n",
    "Data = Data_raw.copy()"
   ]
  },
  {
   "cell_type": "code",
   "execution_count": 3,
   "metadata": {},
   "outputs": [
    {
     "data": {
      "text/html": [
       "<div>\n",
       "<style>\n",
       "    .dataframe thead tr:only-child th {\n",
       "        text-align: right;\n",
       "    }\n",
       "\n",
       "    .dataframe thead th {\n",
       "        text-align: left;\n",
       "    }\n",
       "\n",
       "    .dataframe tbody tr th {\n",
       "        vertical-align: top;\n",
       "    }\n",
       "</style>\n",
       "<table border=\"1\" class=\"dataframe\">\n",
       "  <thead>\n",
       "    <tr style=\"text-align: right;\">\n",
       "      <th></th>\n",
       "      <th>order_id</th>\n",
       "      <th>customer_id</th>\n",
       "      <th>order_date</th>\n",
       "      <th>is_canceled</th>\n",
       "      <th>customer_order_number</th>\n",
       "    </tr>\n",
       "  </thead>\n",
       "  <tbody>\n",
       "    <tr>\n",
       "      <th>5046</th>\n",
       "      <td>5046</td>\n",
       "      <td>19997</td>\n",
       "      <td>2016-03-20 05:36:53</td>\n",
       "      <td>0</td>\n",
       "      <td>3</td>\n",
       "    </tr>\n",
       "    <tr>\n",
       "      <th>12647</th>\n",
       "      <td>12647</td>\n",
       "      <td>18062</td>\n",
       "      <td>2016-05-23 23:12:42</td>\n",
       "      <td>0</td>\n",
       "      <td>58</td>\n",
       "    </tr>\n",
       "    <tr>\n",
       "      <th>7660</th>\n",
       "      <td>7660</td>\n",
       "      <td>81347</td>\n",
       "      <td>2016-04-15 18:41:39</td>\n",
       "      <td>0</td>\n",
       "      <td>1</td>\n",
       "    </tr>\n",
       "    <tr>\n",
       "      <th>15482</th>\n",
       "      <td>15482</td>\n",
       "      <td>41343</td>\n",
       "      <td>2016-06-23 02:47:48</td>\n",
       "      <td>0</td>\n",
       "      <td>124</td>\n",
       "    </tr>\n",
       "    <tr>\n",
       "      <th>2745</th>\n",
       "      <td>2745</td>\n",
       "      <td>59351</td>\n",
       "      <td>2016-02-18 15:27:42</td>\n",
       "      <td>0</td>\n",
       "      <td>3</td>\n",
       "    </tr>\n",
       "  </tbody>\n",
       "</table>\n",
       "</div>"
      ],
      "text/plain": [
       "       order_id  customer_id           order_date  is_canceled  \\\n",
       "5046       5046        19997  2016-03-20 05:36:53            0   \n",
       "12647     12647        18062  2016-05-23 23:12:42            0   \n",
       "7660       7660        81347  2016-04-15 18:41:39            0   \n",
       "15482     15482        41343  2016-06-23 02:47:48            0   \n",
       "2745       2745        59351  2016-02-18 15:27:42            0   \n",
       "\n",
       "       customer_order_number  \n",
       "5046                       3  \n",
       "12647                     58  \n",
       "7660                       1  \n",
       "15482                    124  \n",
       "2745                       3  "
      ]
     },
     "execution_count": 3,
     "metadata": {},
     "output_type": "execute_result"
    }
   ],
   "source": [
    "Data.sample(5)"
   ]
  },
  {
   "cell_type": "code",
   "execution_count": 4,
   "metadata": {},
   "outputs": [
    {
     "data": {
      "text/plain": [
       "(16054, 5)"
      ]
     },
     "execution_count": 4,
     "metadata": {},
     "output_type": "execute_result"
    }
   ],
   "source": [
    "Data.shape"
   ]
  },
  {
   "cell_type": "code",
   "execution_count": 5,
   "metadata": {},
   "outputs": [
    {
     "data": {
      "text/plain": [
       "order_id                  int64\n",
       "customer_id               int64\n",
       "order_date               object\n",
       "is_canceled               int64\n",
       "customer_order_number     int64\n",
       "dtype: object"
      ]
     },
     "execution_count": 5,
     "metadata": {},
     "output_type": "execute_result"
    }
   ],
   "source": [
    "Data.dtypes"
   ]
  },
  {
   "cell_type": "code",
   "execution_count": 6,
   "metadata": {},
   "outputs": [
    {
     "data": {
      "text/plain": [
       "order_id                 0\n",
       "customer_id              0\n",
       "order_date               0\n",
       "is_canceled              0\n",
       "customer_order_number    0\n",
       "dtype: int64"
      ]
     },
     "execution_count": 6,
     "metadata": {},
     "output_type": "execute_result"
    }
   ],
   "source": [
    "Data.isnull().sum()\n",
    "#no missing values"
   ]
  },
  {
   "cell_type": "code",
   "execution_count": 7,
   "metadata": {
    "collapsed": true,
    "scrolled": true
   },
   "outputs": [],
   "source": [
    "Data['order_date'] = Data['order_date'].apply(lambda x: datetime.strptime(x, '%Y-%m-%d %H:%M:%S'))\n",
    "Data['customer_id'] = Data['customer_id'].astype(str)\n",
    "Data['order_id'] = Data['order_id'].astype(str)"
   ]
  },
  {
   "cell_type": "code",
   "execution_count": 8,
   "metadata": {},
   "outputs": [
    {
     "name": "stdout",
     "output_type": "stream",
     "text": [
      "Date ranges from 2016-01-01 to 2016-06-30\n"
     ]
    }
   ],
   "source": [
    "print('Date ranges from ' + str(Data.order_date.min().date()) + ' to ' + str(Data.order_date.max().date()))"
   ]
  },
  {
   "cell_type": "code",
   "execution_count": 9,
   "metadata": {},
   "outputs": [
    {
     "data": {
      "text/plain": [
       "order_id                         object\n",
       "customer_id                      object\n",
       "order_date               datetime64[ns]\n",
       "is_canceled                       int64\n",
       "customer_order_number             int64\n",
       "dtype: object"
      ]
     },
     "execution_count": 9,
     "metadata": {},
     "output_type": "execute_result"
    }
   ],
   "source": [
    "Data.dtypes"
   ]
  },
  {
   "cell_type": "markdown",
   "metadata": {},
   "source": [
    "## Task 1. Investigate transactions time series:\n",
    "\n",
    "* calculate average orders number placed per hour, day, week\n",
    "\n",
    "* plot placed orders time series (hourly, daily, weekly bin size) – placed orders count time dependance.\n",
    "\n",
    "* investigate seasonality: daily, weekly - any hypothesis/conclusions (?)"
   ]
  },
  {
   "cell_type": "code",
   "execution_count": 10,
   "metadata": {
    "collapsed": true,
    "scrolled": true
   },
   "outputs": [],
   "source": [
    "def orders_by_time(period, period_str):\n",
    "    \"\"\"\n",
    "    Function orders_by_time shows the amount of orders by specific period of time (in table and plot formats).\n",
    "    \n",
    "    Input:\n",
    "    period - period you want to group your data by (in format: Data.order_date.dt.X, X is (hour/day/year))\n",
    "    period_str - string of selected period (e.g. 'Hour', 'Day', 'Year')\n",
    "    Call example: mean_by_time(period=Data.order_date.dt.hour, period_str='Hour)\n",
    "    \n",
    "    Output:\n",
    "    1 - table with mean value of orders numbers by specific period\n",
    "    2 - plot with mean value of orders numbers by specific period\n",
    "    \"\"\"\n",
    "    Temp = []\n",
    "    Temp = Data.groupby(period)[['customer_order_number']].count()\n",
    "    Temp.columns = ['Orders']\n",
    "    Temp.index.name = period_str\n",
    "    display(Temp)\n",
    "    \n",
    "    plt.figure(figsize=(12,5))\n",
    "    plt.plot(Temp.index, 'Orders', data=Temp, color='green', marker = \".\", linewidth=1)\n",
    "    plt.xlabel(period_str, fontsize=10)\n",
    "    plt.ylabel('Orders', fontsize=10)\n",
    "    plt.title(str('Orders by ' + period_str), loc='Center', fontsize=14)\n",
    "    plt.show()"
   ]
  },
  {
   "cell_type": "code",
   "execution_count": 11,
   "metadata": {
    "scrolled": true
   },
   "outputs": [
    {
     "data": {
      "text/html": [
       "<div>\n",
       "<style>\n",
       "    .dataframe thead tr:only-child th {\n",
       "        text-align: right;\n",
       "    }\n",
       "\n",
       "    .dataframe thead th {\n",
       "        text-align: left;\n",
       "    }\n",
       "\n",
       "    .dataframe tbody tr th {\n",
       "        vertical-align: top;\n",
       "    }\n",
       "</style>\n",
       "<table border=\"1\" class=\"dataframe\">\n",
       "  <thead>\n",
       "    <tr style=\"text-align: right;\">\n",
       "      <th></th>\n",
       "      <th>Orders</th>\n",
       "    </tr>\n",
       "    <tr>\n",
       "      <th>Hour</th>\n",
       "      <th></th>\n",
       "    </tr>\n",
       "  </thead>\n",
       "  <tbody>\n",
       "    <tr>\n",
       "      <th>0</th>\n",
       "      <td>868</td>\n",
       "    </tr>\n",
       "    <tr>\n",
       "      <th>1</th>\n",
       "      <td>987</td>\n",
       "    </tr>\n",
       "    <tr>\n",
       "      <th>2</th>\n",
       "      <td>1045</td>\n",
       "    </tr>\n",
       "    <tr>\n",
       "      <th>3</th>\n",
       "      <td>913</td>\n",
       "    </tr>\n",
       "    <tr>\n",
       "      <th>4</th>\n",
       "      <td>808</td>\n",
       "    </tr>\n",
       "    <tr>\n",
       "      <th>5</th>\n",
       "      <td>643</td>\n",
       "    </tr>\n",
       "    <tr>\n",
       "      <th>6</th>\n",
       "      <td>410</td>\n",
       "    </tr>\n",
       "    <tr>\n",
       "      <th>7</th>\n",
       "      <td>308</td>\n",
       "    </tr>\n",
       "    <tr>\n",
       "      <th>8</th>\n",
       "      <td>279</td>\n",
       "    </tr>\n",
       "    <tr>\n",
       "      <th>9</th>\n",
       "      <td>186</td>\n",
       "    </tr>\n",
       "    <tr>\n",
       "      <th>10</th>\n",
       "      <td>213</td>\n",
       "    </tr>\n",
       "    <tr>\n",
       "      <th>11</th>\n",
       "      <td>268</td>\n",
       "    </tr>\n",
       "    <tr>\n",
       "      <th>12</th>\n",
       "      <td>311</td>\n",
       "    </tr>\n",
       "    <tr>\n",
       "      <th>13</th>\n",
       "      <td>462</td>\n",
       "    </tr>\n",
       "    <tr>\n",
       "      <th>14</th>\n",
       "      <td>595</td>\n",
       "    </tr>\n",
       "    <tr>\n",
       "      <th>15</th>\n",
       "      <td>746</td>\n",
       "    </tr>\n",
       "    <tr>\n",
       "      <th>16</th>\n",
       "      <td>744</td>\n",
       "    </tr>\n",
       "    <tr>\n",
       "      <th>17</th>\n",
       "      <td>831</td>\n",
       "    </tr>\n",
       "    <tr>\n",
       "      <th>18</th>\n",
       "      <td>872</td>\n",
       "    </tr>\n",
       "    <tr>\n",
       "      <th>19</th>\n",
       "      <td>879</td>\n",
       "    </tr>\n",
       "    <tr>\n",
       "      <th>20</th>\n",
       "      <td>896</td>\n",
       "    </tr>\n",
       "    <tr>\n",
       "      <th>21</th>\n",
       "      <td>909</td>\n",
       "    </tr>\n",
       "    <tr>\n",
       "      <th>22</th>\n",
       "      <td>941</td>\n",
       "    </tr>\n",
       "    <tr>\n",
       "      <th>23</th>\n",
       "      <td>940</td>\n",
       "    </tr>\n",
       "  </tbody>\n",
       "</table>\n",
       "</div>"
      ],
      "text/plain": [
       "      Orders\n",
       "Hour        \n",
       "0        868\n",
       "1        987\n",
       "2       1045\n",
       "3        913\n",
       "4        808\n",
       "5        643\n",
       "6        410\n",
       "7        308\n",
       "8        279\n",
       "9        186\n",
       "10       213\n",
       "11       268\n",
       "12       311\n",
       "13       462\n",
       "14       595\n",
       "15       746\n",
       "16       744\n",
       "17       831\n",
       "18       872\n",
       "19       879\n",
       "20       896\n",
       "21       909\n",
       "22       941\n",
       "23       940"
      ]
     },
     "metadata": {},
     "output_type": "display_data"
    },
    {
     "data": {
      "image/png": "[encoded data removed]",
      "text/plain": [
       "<matplotlib.figure.Figure at 0x7f845d43a860>"
      ]
     },
     "metadata": {},
     "output_type": "display_data"
    }
   ],
   "source": [
    "orders_by_time(period=Data.order_date.dt.hour, period_str='Hour')"
   ]
  },
  {
   "cell_type": "code",
   "execution_count": 12,
   "metadata": {},
   "outputs": [
    {
     "data": {
      "text/html": [
       "<div>\n",
       "<style>\n",
       "    .dataframe thead tr:only-child th {\n",
       "        text-align: right;\n",
       "    }\n",
       "\n",
       "    .dataframe thead th {\n",
       "        text-align: left;\n",
       "    }\n",
       "\n",
       "    .dataframe tbody tr th {\n",
       "        vertical-align: top;\n",
       "    }\n",
       "</style>\n",
       "<table border=\"1\" class=\"dataframe\">\n",
       "  <thead>\n",
       "    <tr style=\"text-align: right;\">\n",
       "      <th></th>\n",
       "      <th>Orders</th>\n",
       "    </tr>\n",
       "    <tr>\n",
       "      <th>Weekday (0= Monday, 6=Sunday)</th>\n",
       "      <th></th>\n",
       "    </tr>\n",
       "  </thead>\n",
       "  <tbody>\n",
       "    <tr>\n",
       "      <th>0</th>\n",
       "      <td>2570</td>\n",
       "    </tr>\n",
       "    <tr>\n",
       "      <th>1</th>\n",
       "      <td>2678</td>\n",
       "    </tr>\n",
       "    <tr>\n",
       "      <th>2</th>\n",
       "      <td>2572</td>\n",
       "    </tr>\n",
       "    <tr>\n",
       "      <th>3</th>\n",
       "      <td>2392</td>\n",
       "    </tr>\n",
       "    <tr>\n",
       "      <th>4</th>\n",
       "      <td>2036</td>\n",
       "    </tr>\n",
       "    <tr>\n",
       "      <th>5</th>\n",
       "      <td>1787</td>\n",
       "    </tr>\n",
       "    <tr>\n",
       "      <th>6</th>\n",
       "      <td>2019</td>\n",
       "    </tr>\n",
       "  </tbody>\n",
       "</table>\n",
       "</div>"
      ],
      "text/plain": [
       "                               Orders\n",
       "Weekday (0= Monday, 6=Sunday)        \n",
       "0                                2570\n",
       "1                                2678\n",
       "2                                2572\n",
       "3                                2392\n",
       "4                                2036\n",
       "5                                1787\n",
       "6                                2019"
      ]
     },
     "metadata": {},
     "output_type": "display_data"
    },
    {
     "data": {
      "image/png": "[encoded data removed]",
      "text/plain": [
       "<matplotlib.figure.Figure at 0x7f842f2b7080>"
      ]
     },
     "metadata": {},
     "output_type": "display_data"
    }
   ],
   "source": [
    "orders_by_time(period=Data.order_date.dt.weekday, period_str='Weekday (0= Monday, 6=Sunday)')"
   ]
  },
  {
   "cell_type": "code",
   "execution_count": 13,
   "metadata": {
    "scrolled": true
   },
   "outputs": [
    {
     "data": {
      "text/html": [
       "<div>\n",
       "<style>\n",
       "    .dataframe thead tr:only-child th {\n",
       "        text-align: right;\n",
       "    }\n",
       "\n",
       "    .dataframe thead th {\n",
       "        text-align: left;\n",
       "    }\n",
       "\n",
       "    .dataframe tbody tr th {\n",
       "        vertical-align: top;\n",
       "    }\n",
       "</style>\n",
       "<table border=\"1\" class=\"dataframe\">\n",
       "  <thead>\n",
       "    <tr style=\"text-align: right;\">\n",
       "      <th></th>\n",
       "      <th>Orders</th>\n",
       "    </tr>\n",
       "    <tr>\n",
       "      <th>Week</th>\n",
       "      <th></th>\n",
       "    </tr>\n",
       "  </thead>\n",
       "  <tbody>\n",
       "    <tr>\n",
       "      <th>1</th>\n",
       "      <td>264</td>\n",
       "    </tr>\n",
       "    <tr>\n",
       "      <th>2</th>\n",
       "      <td>295</td>\n",
       "    </tr>\n",
       "    <tr>\n",
       "      <th>3</th>\n",
       "      <td>440</td>\n",
       "    </tr>\n",
       "    <tr>\n",
       "      <th>4</th>\n",
       "      <td>421</td>\n",
       "    </tr>\n",
       "    <tr>\n",
       "      <th>5</th>\n",
       "      <td>499</td>\n",
       "    </tr>\n",
       "    <tr>\n",
       "      <th>6</th>\n",
       "      <td>472</td>\n",
       "    </tr>\n",
       "    <tr>\n",
       "      <th>7</th>\n",
       "      <td>545</td>\n",
       "    </tr>\n",
       "    <tr>\n",
       "      <th>8</th>\n",
       "      <td>557</td>\n",
       "    </tr>\n",
       "    <tr>\n",
       "      <th>9</th>\n",
       "      <td>486</td>\n",
       "    </tr>\n",
       "    <tr>\n",
       "      <th>10</th>\n",
       "      <td>526</td>\n",
       "    </tr>\n",
       "    <tr>\n",
       "      <th>11</th>\n",
       "      <td>534</td>\n",
       "    </tr>\n",
       "    <tr>\n",
       "      <th>12</th>\n",
       "      <td>533</td>\n",
       "    </tr>\n",
       "    <tr>\n",
       "      <th>13</th>\n",
       "      <td>608</td>\n",
       "    </tr>\n",
       "    <tr>\n",
       "      <th>14</th>\n",
       "      <td>776</td>\n",
       "    </tr>\n",
       "    <tr>\n",
       "      <th>15</th>\n",
       "      <td>889</td>\n",
       "    </tr>\n",
       "    <tr>\n",
       "      <th>16</th>\n",
       "      <td>1096</td>\n",
       "    </tr>\n",
       "    <tr>\n",
       "      <th>17</th>\n",
       "      <td>1076</td>\n",
       "    </tr>\n",
       "    <tr>\n",
       "      <th>18</th>\n",
       "      <td>952</td>\n",
       "    </tr>\n",
       "    <tr>\n",
       "      <th>19</th>\n",
       "      <td>803</td>\n",
       "    </tr>\n",
       "    <tr>\n",
       "      <th>20</th>\n",
       "      <td>720</td>\n",
       "    </tr>\n",
       "    <tr>\n",
       "      <th>21</th>\n",
       "      <td>629</td>\n",
       "    </tr>\n",
       "    <tr>\n",
       "      <th>22</th>\n",
       "      <td>694</td>\n",
       "    </tr>\n",
       "    <tr>\n",
       "      <th>23</th>\n",
       "      <td>725</td>\n",
       "    </tr>\n",
       "    <tr>\n",
       "      <th>24</th>\n",
       "      <td>582</td>\n",
       "    </tr>\n",
       "    <tr>\n",
       "      <th>25</th>\n",
       "      <td>546</td>\n",
       "    </tr>\n",
       "    <tr>\n",
       "      <th>26</th>\n",
       "      <td>330</td>\n",
       "    </tr>\n",
       "    <tr>\n",
       "      <th>53</th>\n",
       "      <td>56</td>\n",
       "    </tr>\n",
       "  </tbody>\n",
       "</table>\n",
       "</div>"
      ],
      "text/plain": [
       "      Orders\n",
       "Week        \n",
       "1        264\n",
       "2        295\n",
       "3        440\n",
       "4        421\n",
       "5        499\n",
       "6        472\n",
       "7        545\n",
       "8        557\n",
       "9        486\n",
       "10       526\n",
       "11       534\n",
       "12       533\n",
       "13       608\n",
       "14       776\n",
       "15       889\n",
       "16      1096\n",
       "17      1076\n",
       "18       952\n",
       "19       803\n",
       "20       720\n",
       "21       629\n",
       "22       694\n",
       "23       725\n",
       "24       582\n",
       "25       546\n",
       "26       330\n",
       "53        56"
      ]
     },
     "metadata": {},
     "output_type": "display_data"
    },
    {
     "data": {
      "image/png": "[encoded data removed]",
      "text/plain": [
       "<matplotlib.figure.Figure at 0x7f842f251630>"
      ]
     },
     "metadata": {},
     "output_type": "display_data"
    }
   ],
   "source": [
    "orders_by_time(period=Data.order_date.dt.weekofyear, period_str='Week')"
   ]
  },
  {
   "cell_type": "markdown",
   "metadata": {},
   "source": [
    "**Note: couple of days in January 2016 are considered as week number 53 since they belong to end of the week in December 2015. First week of 2016 starts with 4th January. Redo without this week:**"
   ]
  },
  {
   "cell_type": "code",
   "execution_count": 14,
   "metadata": {},
   "outputs": [
    {
     "data": {
      "text/html": [
       "<div>\n",
       "<style>\n",
       "    .dataframe thead tr:only-child th {\n",
       "        text-align: right;\n",
       "    }\n",
       "\n",
       "    .dataframe thead th {\n",
       "        text-align: left;\n",
       "    }\n",
       "\n",
       "    .dataframe tbody tr th {\n",
       "        vertical-align: top;\n",
       "    }\n",
       "</style>\n",
       "<table border=\"1\" class=\"dataframe\">\n",
       "  <thead>\n",
       "    <tr style=\"text-align: right;\">\n",
       "      <th></th>\n",
       "      <th>Orders</th>\n",
       "    </tr>\n",
       "    <tr>\n",
       "      <th>Week</th>\n",
       "      <th></th>\n",
       "    </tr>\n",
       "  </thead>\n",
       "  <tbody>\n",
       "    <tr>\n",
       "      <th>1.0</th>\n",
       "      <td>264</td>\n",
       "    </tr>\n",
       "    <tr>\n",
       "      <th>2.0</th>\n",
       "      <td>295</td>\n",
       "    </tr>\n",
       "    <tr>\n",
       "      <th>3.0</th>\n",
       "      <td>440</td>\n",
       "    </tr>\n",
       "    <tr>\n",
       "      <th>4.0</th>\n",
       "      <td>421</td>\n",
       "    </tr>\n",
       "    <tr>\n",
       "      <th>5.0</th>\n",
       "      <td>499</td>\n",
       "    </tr>\n",
       "    <tr>\n",
       "      <th>6.0</th>\n",
       "      <td>472</td>\n",
       "    </tr>\n",
       "    <tr>\n",
       "      <th>7.0</th>\n",
       "      <td>545</td>\n",
       "    </tr>\n",
       "    <tr>\n",
       "      <th>8.0</th>\n",
       "      <td>557</td>\n",
       "    </tr>\n",
       "    <tr>\n",
       "      <th>9.0</th>\n",
       "      <td>486</td>\n",
       "    </tr>\n",
       "    <tr>\n",
       "      <th>10.0</th>\n",
       "      <td>526</td>\n",
       "    </tr>\n",
       "    <tr>\n",
       "      <th>11.0</th>\n",
       "      <td>534</td>\n",
       "    </tr>\n",
       "    <tr>\n",
       "      <th>12.0</th>\n",
       "      <td>533</td>\n",
       "    </tr>\n",
       "    <tr>\n",
       "      <th>13.0</th>\n",
       "      <td>608</td>\n",
       "    </tr>\n",
       "    <tr>\n",
       "      <th>14.0</th>\n",
       "      <td>776</td>\n",
       "    </tr>\n",
       "    <tr>\n",
       "      <th>15.0</th>\n",
       "      <td>889</td>\n",
       "    </tr>\n",
       "    <tr>\n",
       "      <th>16.0</th>\n",
       "      <td>1096</td>\n",
       "    </tr>\n",
       "    <tr>\n",
       "      <th>17.0</th>\n",
       "      <td>1076</td>\n",
       "    </tr>\n",
       "    <tr>\n",
       "      <th>18.0</th>\n",
       "      <td>952</td>\n",
       "    </tr>\n",
       "    <tr>\n",
       "      <th>19.0</th>\n",
       "      <td>803</td>\n",
       "    </tr>\n",
       "    <tr>\n",
       "      <th>20.0</th>\n",
       "      <td>720</td>\n",
       "    </tr>\n",
       "    <tr>\n",
       "      <th>21.0</th>\n",
       "      <td>629</td>\n",
       "    </tr>\n",
       "    <tr>\n",
       "      <th>22.0</th>\n",
       "      <td>694</td>\n",
       "    </tr>\n",
       "    <tr>\n",
       "      <th>23.0</th>\n",
       "      <td>725</td>\n",
       "    </tr>\n",
       "    <tr>\n",
       "      <th>24.0</th>\n",
       "      <td>582</td>\n",
       "    </tr>\n",
       "    <tr>\n",
       "      <th>25.0</th>\n",
       "      <td>546</td>\n",
       "    </tr>\n",
       "    <tr>\n",
       "      <th>26.0</th>\n",
       "      <td>330</td>\n",
       "    </tr>\n",
       "  </tbody>\n",
       "</table>\n",
       "</div>"
      ],
      "text/plain": [
       "      Orders\n",
       "Week        \n",
       "1.0      264\n",
       "2.0      295\n",
       "3.0      440\n",
       "4.0      421\n",
       "5.0      499\n",
       "6.0      472\n",
       "7.0      545\n",
       "8.0      557\n",
       "9.0      486\n",
       "10.0     526\n",
       "11.0     534\n",
       "12.0     533\n",
       "13.0     608\n",
       "14.0     776\n",
       "15.0     889\n",
       "16.0    1096\n",
       "17.0    1076\n",
       "18.0     952\n",
       "19.0     803\n",
       "20.0     720\n",
       "21.0     629\n",
       "22.0     694\n",
       "23.0     725\n",
       "24.0     582\n",
       "25.0     546\n",
       "26.0     330"
      ]
     },
     "metadata": {},
     "output_type": "display_data"
    },
    {
     "data": {
      "image/png": "[encoded data removed]",
      "text/plain": [
       "<matplotlib.figure.Figure at 0x7f846656d748>"
      ]
     },
     "metadata": {},
     "output_type": "display_data"
    }
   ],
   "source": [
    "orders_by_time(period=Data.order_date.dt.week[Data.order_date.dt.week != Data.order_date.dt.week.max()],\n",
    "               period_str='Week')"
   ]
  },
  {
   "cell_type": "markdown",
   "metadata": {},
   "source": [
    "**Peak periods are:**\n",
    "\n",
    "* Hourly: 17:00 - 4:00\n",
    "\n",
    "* Daily: Monday-Wednesday\n",
    "\n",
    "* Weekly: 15-18 weeks of the year (April - May)"
   ]
  },
  {
   "cell_type": "markdown",
   "metadata": {},
   "source": [
    "## Task 2. Investigate cancel_rate: % of orders which were canceled\n",
    "\n",
    "* calculate cancel_rate for the whole dataset\n",
    "\n",
    "* investigate cancel_rate vs customer_order_number (order number for customer, altering in [1:5] range)\n",
    "\n",
    "* compare cancel_rate for different months"
   ]
  },
  {
   "cell_type": "code",
   "execution_count": 15,
   "metadata": {},
   "outputs": [
    {
     "name": "stdout",
     "output_type": "stream",
     "text": [
      "Cancel rate for the whole data set: 0.0710\n"
     ]
    }
   ],
   "source": [
    "print('Cancel rate for the whole data set: %.4f' %(sum(Data.is_canceled)/len(Data.is_canceled)))"
   ]
  },
  {
   "cell_type": "code",
   "execution_count": 16,
   "metadata": {},
   "outputs": [
    {
     "data": {
      "text/html": [
       "<div>\n",
       "<style>\n",
       "    .dataframe thead tr:only-child th {\n",
       "        text-align: right;\n",
       "    }\n",
       "\n",
       "    .dataframe thead th {\n",
       "        text-align: left;\n",
       "    }\n",
       "\n",
       "    .dataframe tbody tr th {\n",
       "        vertical-align: top;\n",
       "    }\n",
       "</style>\n",
       "<table border=\"1\" class=\"dataframe\">\n",
       "  <thead>\n",
       "    <tr style=\"text-align: right;\">\n",
       "      <th></th>\n",
       "      <th>order_id</th>\n",
       "      <th>customer_id</th>\n",
       "      <th>order_date</th>\n",
       "      <th>is_canceled</th>\n",
       "      <th>customer_order_number</th>\n",
       "      <th>min_order_number</th>\n",
       "      <th>max_order_number</th>\n",
       "    </tr>\n",
       "  </thead>\n",
       "  <tbody>\n",
       "    <tr>\n",
       "      <th>0</th>\n",
       "      <td>0</td>\n",
       "      <td>52285</td>\n",
       "      <td>2016-01-01 00:09:51</td>\n",
       "      <td>0</td>\n",
       "      <td>2</td>\n",
       "      <td>2</td>\n",
       "      <td>2</td>\n",
       "    </tr>\n",
       "    <tr>\n",
       "      <th>1</th>\n",
       "      <td>1</td>\n",
       "      <td>58296</td>\n",
       "      <td>2016-01-01 14:36:14</td>\n",
       "      <td>0</td>\n",
       "      <td>1</td>\n",
       "      <td>1</td>\n",
       "      <td>4</td>\n",
       "    </tr>\n",
       "    <tr>\n",
       "      <th>2</th>\n",
       "      <td>2</td>\n",
       "      <td>30609</td>\n",
       "      <td>2016-01-01 14:47:46</td>\n",
       "      <td>0</td>\n",
       "      <td>3</td>\n",
       "      <td>3</td>\n",
       "      <td>3</td>\n",
       "    </tr>\n",
       "  </tbody>\n",
       "</table>\n",
       "</div>"
      ],
      "text/plain": [
       "  order_id customer_id          order_date  is_canceled  \\\n",
       "0        0       52285 2016-01-01 00:09:51            0   \n",
       "1        1       58296 2016-01-01 14:36:14            0   \n",
       "2        2       30609 2016-01-01 14:47:46            0   \n",
       "\n",
       "   customer_order_number  min_order_number  max_order_number  \n",
       "0                      2                 2                 2  \n",
       "1                      1                 1                 4  \n",
       "2                      3                 3                 3  "
      ]
     },
     "execution_count": 16,
     "metadata": {},
     "output_type": "execute_result"
    }
   ],
   "source": [
    "#adding new features: min and max order numbers\n",
    "Temp = Data.groupby(Data.customer_id)[['customer_id', 'customer_order_number']].min()\n",
    "Temp = Temp.rename(columns={\"customer_order_number\": \"min_order_number\"})\n",
    "Data = pd.merge(Data, Temp, how='left', on='customer_id')\n",
    "\n",
    "Temp = Data.groupby(Data.customer_id)[['customer_id', 'customer_order_number']].max()\n",
    "Temp = Temp.rename(columns={\"customer_order_number\": \"max_order_number\"})\n",
    "Data = pd.merge(Data, Temp, how='left', on='customer_id')\n",
    "\n",
    "Data.head(3)"
   ]
  },
  {
   "cell_type": "markdown",
   "metadata": {},
   "source": [
    "### Cancel rate vs Customer Order Number"
   ]
  },
  {
   "cell_type": "code",
   "execution_count": 17,
   "metadata": {
    "collapsed": true,
    "scrolled": true
   },
   "outputs": [],
   "source": [
    "#select only those who have completed from 1 to 5 transactions\n",
    "Data_cancel = Data[(Data.max_order_number <= 5) & (Data.min_order_number == 1)]"
   ]
  },
  {
   "cell_type": "code",
   "execution_count": 18,
   "metadata": {},
   "outputs": [
    {
     "name": "stdout",
     "output_type": "stream",
     "text": [
      "Cancel rate for customes with total orders less than 5: 0.1023\n"
     ]
    }
   ],
   "source": [
    "print('Cancel rate for customes with total orders less than 5: %.4f' \\\n",
    "      %(sum(Data_cancel.is_canceled)/len(Data_cancel.is_canceled)))"
   ]
  },
  {
   "cell_type": "code",
   "execution_count": 19,
   "metadata": {},
   "outputs": [
    {
     "data": {
      "text/plain": [
       "Text(0.5,1,'Canceled Ratio by Order Number')"
      ]
     },
     "execution_count": 19,
     "metadata": {},
     "output_type": "execute_result"
    },
    {
     "data": {
      "image/png": "[encoded data removed]",
      "text/plain": [
       "<matplotlib.figure.Figure at 0x7f8427feee80>"
      ]
     },
     "metadata": {},
     "output_type": "display_data"
    }
   ],
   "source": [
    "#plot the mean value of returns by max order number\n",
    "Data_cancel = Data_cancel.groupby(Data_cancel.customer_order_number)[['is_canceled']].sum() / \\\n",
    "Data_cancel.groupby(Data_cancel.customer_order_number)[['is_canceled']].count()\n",
    "\n",
    "plt.figure(figsize=(12,5))\n",
    "sns.barplot(Data_cancel.index, 'is_canceled', data=Data_cancel, color='lightskyblue')\n",
    "plt.xlabel('Order Number', fontsize=10)\n",
    "plt.ylabel('Canceled Ratio', fontsize=10)\n",
    "plt.title('Canceled Ratio by Order Number', loc='Center', fontsize=14)"
   ]
  },
  {
   "cell_type": "code",
   "execution_count": 20,
   "metadata": {},
   "outputs": [
    {
     "data": {
      "application/vnd.plotly.v1+json": {
       "data": [
        {
         "orientation": "v",
         "type": "bar",
         "uid": "c7a7645c-8cf9-11e8-bf79-843a4b06963c",
         "x": [
          1,
          2,
          3,
          4,
          5,
          6,
          7,
          8,
          9,
          10,
          11,
          12,
          13,
          14,
          15,
          16,
          17,
          18,
          19,
          20,
          21,
          22,
          23,
          24,
          25,
          26,
          27,
          28,
          29,
          30,
          31,
          32,
          33,
          34,
          35,
          36,
          37,
          38,
          39,
          40,
          41,
          42,
          43,
          44,
          45,
          46,
          47,
          48,
          49,
          50,
          51,
          52,
          53,
          54,
          55,
          56,
          57,
          58,
          59,
          60,
          61,
          62,
          63,
          64,
          65,
          66,
          67,
          68,
          69,
          70,
          71,
          72,
          73,
          74,
          75,
          76,
          77,
          78,
          79,
          80,
          81,
          82,
          83,
          84,
          85,
          86,
          87,
          88,
          89,
          90,
          91,
          92,
          93,
          94,
          95,
          96,
          97,
          98,
          99,
          100,
          101,
          102,
          103,
          104,
          105,
          106,
          107,
          108,
          109,
          110,
          111,
          112,
          113,
          114,
          115,
          116,
          117,
          118,
          119,
          120,
          121,
          122,
          123,
          124,
          125,
          126,
          127,
          128,
          129,
          130,
          131,
          132,
          133,
          134,
          135,
          136,
          137,
          138,
          139,
          140,
          141,
          142,
          143,
          144,
          145,
          146,
          147,
          148,
          149,
          150,
          151,
          152,
          153,
          154,
          155,
          156,
          157,
          158,
          159,
          160,
          161,
          162,
          163,
          164,
          165,
          166,
          167,
          168,
          169,
          170,
          171,
          172,
          173,
          174,
          175,
          176,
          177,
          178,
          179,
          180,
          181,
          182,
          183,
          184,
          185,
          186,
          187,
          188,
          189,
          190,
          191,
          192,
          193,
          194,
          195,
          196,
          197,
          198,
          199,
          200,
          201,
          202,
          203,
          204,
          205,
          206,
          207,
          208,
          209,
          210,
          211,
          212,
          213,
          214,
          215
         ],
         "y": [
          0.10322047894302229,
          0.08434504792332269,
          0.10018726591760299,
          0.06390977443609022,
          0.05918057663125948,
          0.0721830985915493,
          0.0673469387755102,
          0.05429864253393665,
          0.05398457583547558,
          0.0782122905027933,
          0.05329153605015674,
          0.04895104895104895,
          0.06666666666666667,
          0.03968253968253968,
          0.04741379310344827,
          0.08837209302325581,
          0.024154589371980676,
          0.07253886010362694,
          0.05056179775280899,
          0.03333333333333333,
          0.07514450867052024,
          0.06666666666666667,
          0.05806451612903226,
          0.038461538461538464,
          0.0684931506849315,
          0.07518796992481203,
          0.015625,
          0.032520325203252036,
          0.05172413793103448,
          0.08256880733944955,
          0.08823529411764706,
          0.04081632653061224,
          0.03260869565217391,
          0.023255813953488372,
          0.08536585365853659,
          0.05194805194805195,
          0.05063291139240506,
          0.0684931506849315,
          0.0273972602739726,
          0.014925373134328358,
          0.04918032786885246,
          0.05263157894736842,
          0.034482758620689655,
          0.05660377358490566,
          0,
          0.021739130434782608,
          0.023809523809523808,
          0.02564102564102564,
          0.02702702702702703,
          0,
          0.030303030303030304,
          0,
          0.06896551724137931,
          0.10714285714285714,
          0.034482758620689655,
          0,
          0.11538461538461539,
          0.11538461538461539,
          0.045454545454545456,
          0,
          0,
          0.058823529411764705,
          0.05263157894736842,
          0,
          0.06666666666666667,
          0,
          0.07692307692307693,
          0,
          0,
          0,
          0,
          0,
          0.07692307692307693,
          0.07692307692307693,
          0,
          0,
          0.07692307692307693,
          0.15384615384615385,
          0,
          0.08333333333333333,
          0.08333333333333333,
          0.08333333333333333,
          0.16666666666666666,
          0,
          0,
          0,
          0,
          0,
          0,
          0.09090909090909091,
          0,
          0,
          0,
          0,
          0,
          0,
          0,
          0,
          0,
          0,
          0,
          0,
          0,
          0,
          0,
          0,
          0,
          0,
          0,
          0,
          0,
          0,
          0,
          0,
          0,
          0,
          0,
          0,
          0,
          0,
          0,
          0,
          0,
          0,
          0,
          0,
          0,
          0,
          0,
          0,
          0,
          0,
          0,
          0,
          0,
          0,
          0,
          0,
          0,
          0,
          0,
          0,
          0,
          0,
          0,
          0,
          0,
          0,
          0,
          0,
          0,
          0,
          0,
          0,
          0,
          0,
          0,
          0,
          0,
          0,
          0,
          0,
          0,
          0,
          0,
          0,
          0,
          0,
          0,
          0,
          0,
          0,
          0,
          0,
          0,
          0,
          0,
          0,
          0,
          0,
          0,
          0,
          0,
          0,
          0,
          0,
          0,
          0,
          0,
          0,
          0,
          0,
          0,
          0,
          0,
          0,
          0,
          0,
          0,
          0,
          0,
          0,
          0,
          0,
          0,
          0,
          0,
          0,
          0,
          0,
          0.5,
          0,
          0,
          0,
          0
         ]
        }
       ],
       "layout": {
        "title": "Canceled Ratio by Order Number (whole data set)",
        "xaxis": {
         "title": "Order Number"
        },
        "yaxis": {
         "title": "Canceled Ratio"
        }
       }
      },
      "text/html": [
       "<div id=\"123d10b0-db96-4209-bff5-0f9e8a34c15e\" style=\"height: 525px; width: 100%;\" class=\"plotly-graph-div\"></div><script type=\"text/javascript\">require([\"plotly\"], function(Plotly) { window.PLOTLYENV=window.PLOTLYENV || {};window.PLOTLYENV.BASE_URL=\"https://plot.ly\";\n",
       "        Plotly.plot(\n",
       "            '123d10b0-db96-4209-bff5-0f9e8a34c15e',\n",
       "            [{\"orientation\": \"v\", \"x\": [1.0, 2.0, 3.0, 4.0, 5.0, 6.0, 7.0, 8.0, 9.0, 10.0, 11.0, 12.0, 13.0, 14.0, 15.0, 16.0, 17.0, 18.0, 19.0, 20.0, 21.0, 22.0, 23.0, 24.0, 25.0, 26.0, 27.0, 28.0, 29.0, 30.0, 31.0, 32.0, 33.0, 34.0, 35.0, 36.0, 37.0, 38.0, 39.0, 40.0, 41.0, 42.0, 43.0, 44.0, 45.0, 46.0, 47.0, 48.0, 49.0, 50.0, 51.0, 52.0, 53.0, 54.0, 55.0, 56.0, 57.0, 58.0, 59.0, 60.0, 61.0, 62.0, 63.0, 64.0, 65.0, 66.0, 67.0, 68.0, 69.0, 70.0, 71.0, 72.0, 73.0, 74.0, 75.0, 76.0, 77.0, 78.0, 79.0, 80.0, 81.0, 82.0, 83.0, 84.0, 85.0, 86.0, 87.0, 88.0, 89.0, 90.0, 91.0, 92.0, 93.0, 94.0, 95.0, 96.0, 97.0, 98.0, 99.0, 100.0, 101.0, 102.0, 103.0, 104.0, 105.0, 106.0, 107.0, 108.0, 109.0, 110.0, 111.0, 112.0, 113.0, 114.0, 115.0, 116.0, 117.0, 118.0, 119.0, 120.0, 121.0, 122.0, 123.0, 124.0, 125.0, 126.0, 127.0, 128.0, 129.0, 130.0, 131.0, 132.0, 133.0, 134.0, 135.0, 136.0, 137.0, 138.0, 139.0, 140.0, 141.0, 142.0, 143.0, 144.0, 145.0, 146.0, 147.0, 148.0, 149.0, 150.0, 151.0, 152.0, 153.0, 154.0, 155.0, 156.0, 157.0, 158.0, 159.0, 160.0, 161.0, 162.0, 163.0, 164.0, 165.0, 166.0, 167.0, 168.0, 169.0, 170.0, 171.0, 172.0, 173.0, 174.0, 175.0, 176.0, 177.0, 178.0, 179.0, 180.0, 181.0, 182.0, 183.0, 184.0, 185.0, 186.0, 187.0, 188.0, 189.0, 190.0, 191.0, 192.0, 193.0, 194.0, 195.0, 196.0, 197.0, 198.0, 199.0, 200.0, 201.0, 202.0, 203.0, 204.0, 205.0, 206.0, 207.0, 208.0, 209.0, 210.0, 211.0, 212.0, 213.0, 214.0, 215.0], \"y\": [0.10322047894302229, 0.08434504792332269, 0.10018726591760299, 0.06390977443609022, 0.05918057663125948, 0.0721830985915493, 0.0673469387755102, 0.05429864253393665, 0.05398457583547558, 0.0782122905027933, 0.05329153605015674, 0.04895104895104895, 0.06666666666666667, 0.03968253968253968, 0.04741379310344827, 0.08837209302325581, 0.024154589371980676, 0.07253886010362694, 0.05056179775280899, 0.03333333333333333, 0.07514450867052024, 0.06666666666666667, 0.05806451612903226, 0.038461538461538464, 0.0684931506849315, 0.07518796992481203, 0.015625, 0.032520325203252036, 0.05172413793103448, 0.08256880733944955, 0.08823529411764706, 0.04081632653061224, 0.03260869565217391, 0.023255813953488372, 0.08536585365853659, 0.05194805194805195, 0.05063291139240506, 0.0684931506849315, 0.0273972602739726, 0.014925373134328358, 0.04918032786885246, 0.05263157894736842, 0.034482758620689655, 0.05660377358490566, 0.0, 0.021739130434782608, 0.023809523809523808, 0.02564102564102564, 0.02702702702702703, 0.0, 0.030303030303030304, 0.0, 0.06896551724137931, 0.10714285714285714, 0.034482758620689655, 0.0, 0.11538461538461539, 0.11538461538461539, 0.045454545454545456, 0.0, 0.0, 0.058823529411764705, 0.05263157894736842, 0.0, 0.06666666666666667, 0.0, 0.07692307692307693, 0.0, 0.0, 0.0, 0.0, 0.0, 0.07692307692307693, 0.07692307692307693, 0.0, 0.0, 0.07692307692307693, 0.15384615384615385, 0.0, 0.08333333333333333, 0.08333333333333333, 0.08333333333333333, 0.16666666666666666, 0.0, 0.0, 0.0, 0.0, 0.0, 0.0, 0.09090909090909091, 0.0, 0.0, 0.0, 0.0, 0.0, 0.0, 0.0, 0.0, 0.0, 0.0, 0.0, 0.0, 0.0, 0.0, 0.0, 0.0, 0.0, 0.0, 0.0, 0.0, 0.0, 0.0, 0.0, 0.0, 0.0, 0.0, 0.0, 0.0, 0.0, 0.0, 0.0, 0.0, 0.0, 0.0, 0.0, 0.0, 0.0, 0.0, 0.0, 0.0, 0.0, 0.0, 0.0, 0.0, 0.0, 0.0, 0.0, 0.0, 0.0, 0.0, 0.0, 0.0, 0.0, 0.0, 0.0, 0.0, 0.0, 0.0, 0.0, 0.0, 0.0, 0.0, 0.0, 0.0, 0.0, 0.0, 0.0, 0.0, 0.0, 0.0, 0.0, 0.0, 0.0, 0.0, 0.0, 0.0, 0.0, 0.0, 0.0, 0.0, 0.0, 0.0, 0.0, 0.0, 0.0, 0.0, 0.0, 0.0, 0.0, 0.0, 0.0, 0.0, 0.0, 0.0, 0.0, 0.0, 0.0, 0.0, 0.0, 0.0, 0.0, 0.0, 0.0, 0.0, 0.0, 0.0, 0.0, 0.0, 0.0, 0.0, 0.0, 0.0, 0.0, 0.0, 0.0, 0.0, 0.0, 0.0, 0.0, 0.0, 0.5, 0.0, 0.0, 0.0, 0.0], \"type\": \"bar\", \"uid\": \"c7a7645c-8cf9-11e8-bf79-843a4b06963c\"}],\n",
       "            {\"title\": \"Canceled Ratio by Order Number (whole data set)\", \"xaxis\": {\"title\": \"Order Number\"}, \"yaxis\": {\"title\": \"Canceled Ratio\"}},\n",
       "            {\"showLink\": true, \"linkText\": \"Export to plot.ly\"}\n",
       "        ).then(function () {return Plotly.addFrames('123d10b0-db96-4209-bff5-0f9e8a34c15e',{});}).then(function(){Plotly.animate('123d10b0-db96-4209-bff5-0f9e8a34c15e');})\n",
       "        });</script>"
      ],
      "text/vnd.plotly.v1+html": [
       "<div id=\"123d10b0-db96-4209-bff5-0f9e8a34c15e\" style=\"height: 525px; width: 100%;\" class=\"plotly-graph-div\"></div><script type=\"text/javascript\">require([\"plotly\"], function(Plotly) { window.PLOTLYENV=window.PLOTLYENV || {};window.PLOTLYENV.BASE_URL=\"https://plot.ly\";\n",
       "        Plotly.plot(\n",
       "            '123d10b0-db96-4209-bff5-0f9e8a34c15e',\n",
       "            [{\"orientation\": \"v\", \"x\": [1.0, 2.0, 3.0, 4.0, 5.0, 6.0, 7.0, 8.0, 9.0, 10.0, 11.0, 12.0, 13.0, 14.0, 15.0, 16.0, 17.0, 18.0, 19.0, 20.0, 21.0, 22.0, 23.0, 24.0, 25.0, 26.0, 27.0, 28.0, 29.0, 30.0, 31.0, 32.0, 33.0, 34.0, 35.0, 36.0, 37.0, 38.0, 39.0, 40.0, 41.0, 42.0, 43.0, 44.0, 45.0, 46.0, 47.0, 48.0, 49.0, 50.0, 51.0, 52.0, 53.0, 54.0, 55.0, 56.0, 57.0, 58.0, 59.0, 60.0, 61.0, 62.0, 63.0, 64.0, 65.0, 66.0, 67.0, 68.0, 69.0, 70.0, 71.0, 72.0, 73.0, 74.0, 75.0, 76.0, 77.0, 78.0, 79.0, 80.0, 81.0, 82.0, 83.0, 84.0, 85.0, 86.0, 87.0, 88.0, 89.0, 90.0, 91.0, 92.0, 93.0, 94.0, 95.0, 96.0, 97.0, 98.0, 99.0, 100.0, 101.0, 102.0, 103.0, 104.0, 105.0, 106.0, 107.0, 108.0, 109.0, 110.0, 111.0, 112.0, 113.0, 114.0, 115.0, 116.0, 117.0, 118.0, 119.0, 120.0, 121.0, 122.0, 123.0, 124.0, 125.0, 126.0, 127.0, 128.0, 129.0, 130.0, 131.0, 132.0, 133.0, 134.0, 135.0, 136.0, 137.0, 138.0, 139.0, 140.0, 141.0, 142.0, 143.0, 144.0, 145.0, 146.0, 147.0, 148.0, 149.0, 150.0, 151.0, 152.0, 153.0, 154.0, 155.0, 156.0, 157.0, 158.0, 159.0, 160.0, 161.0, 162.0, 163.0, 164.0, 165.0, 166.0, 167.0, 168.0, 169.0, 170.0, 171.0, 172.0, 173.0, 174.0, 175.0, 176.0, 177.0, 178.0, 179.0, 180.0, 181.0, 182.0, 183.0, 184.0, 185.0, 186.0, 187.0, 188.0, 189.0, 190.0, 191.0, 192.0, 193.0, 194.0, 195.0, 196.0, 197.0, 198.0, 199.0, 200.0, 201.0, 202.0, 203.0, 204.0, 205.0, 206.0, 207.0, 208.0, 209.0, 210.0, 211.0, 212.0, 213.0, 214.0, 215.0], \"y\": [0.10322047894302229, 0.08434504792332269, 0.10018726591760299, 0.06390977443609022, 0.05918057663125948, 0.0721830985915493, 0.0673469387755102, 0.05429864253393665, 0.05398457583547558, 0.0782122905027933, 0.05329153605015674, 0.04895104895104895, 0.06666666666666667, 0.03968253968253968, 0.04741379310344827, 0.08837209302325581, 0.024154589371980676, 0.07253886010362694, 0.05056179775280899, 0.03333333333333333, 0.07514450867052024, 0.06666666666666667, 0.05806451612903226, 0.038461538461538464, 0.0684931506849315, 0.07518796992481203, 0.015625, 0.032520325203252036, 0.05172413793103448, 0.08256880733944955, 0.08823529411764706, 0.04081632653061224, 0.03260869565217391, 0.023255813953488372, 0.08536585365853659, 0.05194805194805195, 0.05063291139240506, 0.0684931506849315, 0.0273972602739726, 0.014925373134328358, 0.04918032786885246, 0.05263157894736842, 0.034482758620689655, 0.05660377358490566, 0.0, 0.021739130434782608, 0.023809523809523808, 0.02564102564102564, 0.02702702702702703, 0.0, 0.030303030303030304, 0.0, 0.06896551724137931, 0.10714285714285714, 0.034482758620689655, 0.0, 0.11538461538461539, 0.11538461538461539, 0.045454545454545456, 0.0, 0.0, 0.058823529411764705, 0.05263157894736842, 0.0, 0.06666666666666667, 0.0, 0.07692307692307693, 0.0, 0.0, 0.0, 0.0, 0.0, 0.07692307692307693, 0.07692307692307693, 0.0, 0.0, 0.07692307692307693, 0.15384615384615385, 0.0, 0.08333333333333333, 0.08333333333333333, 0.08333333333333333, 0.16666666666666666, 0.0, 0.0, 0.0, 0.0, 0.0, 0.0, 0.09090909090909091, 0.0, 0.0, 0.0, 0.0, 0.0, 0.0, 0.0, 0.0, 0.0, 0.0, 0.0, 0.0, 0.0, 0.0, 0.0, 0.0, 0.0, 0.0, 0.0, 0.0, 0.0, 0.0, 0.0, 0.0, 0.0, 0.0, 0.0, 0.0, 0.0, 0.0, 0.0, 0.0, 0.0, 0.0, 0.0, 0.0, 0.0, 0.0, 0.0, 0.0, 0.0, 0.0, 0.0, 0.0, 0.0, 0.0, 0.0, 0.0, 0.0, 0.0, 0.0, 0.0, 0.0, 0.0, 0.0, 0.0, 0.0, 0.0, 0.0, 0.0, 0.0, 0.0, 0.0, 0.0, 0.0, 0.0, 0.0, 0.0, 0.0, 0.0, 0.0, 0.0, 0.0, 0.0, 0.0, 0.0, 0.0, 0.0, 0.0, 0.0, 0.0, 0.0, 0.0, 0.0, 0.0, 0.0, 0.0, 0.0, 0.0, 0.0, 0.0, 0.0, 0.0, 0.0, 0.0, 0.0, 0.0, 0.0, 0.0, 0.0, 0.0, 0.0, 0.0, 0.0, 0.0, 0.0, 0.0, 0.0, 0.0, 0.0, 0.0, 0.0, 0.0, 0.0, 0.0, 0.0, 0.0, 0.0, 0.0, 0.0, 0.5, 0.0, 0.0, 0.0, 0.0], \"type\": \"bar\", \"uid\": \"c7a7645c-8cf9-11e8-bf79-843a4b06963c\"}],\n",
       "            {\"title\": \"Canceled Ratio by Order Number (whole data set)\", \"xaxis\": {\"title\": \"Order Number\"}, \"yaxis\": {\"title\": \"Canceled Ratio\"}},\n",
       "            {\"showLink\": true, \"linkText\": \"Export to plot.ly\"}\n",
       "        ).then(function () {return Plotly.addFrames('123d10b0-db96-4209-bff5-0f9e8a34c15e',{});}).then(function(){Plotly.animate('123d10b0-db96-4209-bff5-0f9e8a34c15e');})\n",
       "        });</script>"
      ]
     },
     "metadata": {},
     "output_type": "display_data"
    }
   ],
   "source": [
    "Temp = Data.groupby(Data.customer_order_number)[['is_canceled']].sum() / \\\n",
    "Data.groupby(Data.customer_order_number)[['is_canceled']].count()\n",
    "\n",
    "data = [go.Bar(x=Temp.index,\n",
    "              y=Temp.is_canceled, \n",
    "              orientation='v')]\n",
    "layout = go.Layout(\n",
    "    title='Canceled Ratio by Order Number (whole data set)',\n",
    "    xaxis=dict(title='Order Number'),\n",
    "    yaxis=dict(title='Canceled Ratio')\n",
    ")\n",
    "\n",
    "fig = go.Figure(data=data, layout=layout)\n",
    "iplot(fig)"
   ]
  },
  {
   "cell_type": "markdown",
   "metadata": {},
   "source": [
    "**It doesn't seem like there is a connection between the number of order and the return ratio. Both new and returned customers trend to make returns (even after 50th+ transaction).**"
   ]
  },
  {
   "cell_type": "markdown",
   "metadata": {},
   "source": [
    "### Cancel Rate for different months"
   ]
  },
  {
   "cell_type": "code",
   "execution_count": 21,
   "metadata": {},
   "outputs": [
    {
     "data": {
      "text/plain": [
       "Text(0.5,1,'Cancel Ratio by Month')"
      ]
     },
     "execution_count": 21,
     "metadata": {},
     "output_type": "execute_result"
    },
    {
     "data": {
      "image/png": "[encoded data removed]",
      "text/plain": [
       "<matplotlib.figure.Figure at 0x7f8427fadb38>"
      ]
     },
     "metadata": {},
     "output_type": "display_data"
    }
   ],
   "source": [
    "Temp = Data.groupby(Data.order_date.dt.month)[['is_canceled']].sum() / \\\n",
    "Data.groupby(Data.order_date.dt.month)[['is_canceled']].count()\n",
    "\n",
    "plt.figure(figsize=(12,5))\n",
    "sns.barplot(Temp.index, 'is_canceled', data=Temp, color='lightskyblue')\n",
    "plt.xlabel('Month', fontsize=10)\n",
    "plt.xticks(np.arange(6), ['Jan', 'Feb', 'Mar', 'Apr', 'May', 'June'], rotation=270)\n",
    "plt.ylabel('Cancel Ratio', fontsize=10)\n",
    "plt.title('Cancel Ratio by Month', loc='Center', fontsize=14)"
   ]
  },
  {
   "cell_type": "markdown",
   "metadata": {},
   "source": [
    "**End of Spring - beginning of Summer seems to be high season for orders cancellation. Can it be caused by summer-specific products?**"
   ]
  },
  {
   "cell_type": "markdown",
   "metadata": {},
   "source": [
    "## Task 3. Investigate time between customer's placed orders – dT (how often does customer place orders)\n",
    "\n",
    "* Plot dT histogram, calculate dT mean & percentiles (time after which q={10, 20, ... 90} % of customers have returned\n",
    "\n",
    "* Compare FCO (1st customer’s order) vs not FCO (2nd customer’s order and more)\n",
    "\n",
    "* Investigate how many customers place ‘multi-orders’. dT_multi - time between orders is short enough to consider two orders to be placed simultaneously. What dT_multi would would you choose and why?\n"
   ]
  },
  {
   "cell_type": "code",
   "execution_count": 22,
   "metadata": {},
   "outputs": [
    {
     "data": {
      "text/html": [
       "<div>\n",
       "<style>\n",
       "    .dataframe thead tr:only-child th {\n",
       "        text-align: right;\n",
       "    }\n",
       "\n",
       "    .dataframe thead th {\n",
       "        text-align: left;\n",
       "    }\n",
       "\n",
       "    .dataframe tbody tr th {\n",
       "        vertical-align: top;\n",
       "    }\n",
       "</style>\n",
       "<table border=\"1\" class=\"dataframe\">\n",
       "  <thead>\n",
       "    <tr style=\"text-align: right;\">\n",
       "      <th></th>\n",
       "      <th>order_id</th>\n",
       "      <th>customer_id</th>\n",
       "      <th>order_date</th>\n",
       "      <th>is_canceled</th>\n",
       "      <th>customer_order_number</th>\n",
       "      <th>min_order_number</th>\n",
       "      <th>max_order_number</th>\n",
       "    </tr>\n",
       "  </thead>\n",
       "  <tbody>\n",
       "    <tr>\n",
       "      <th>0</th>\n",
       "      <td>10741</td>\n",
       "      <td>10001</td>\n",
       "      <td>2016-05-06 01:10:12</td>\n",
       "      <td>0</td>\n",
       "      <td>7</td>\n",
       "      <td>7</td>\n",
       "      <td>8</td>\n",
       "    </tr>\n",
       "    <tr>\n",
       "      <th>1</th>\n",
       "      <td>12932</td>\n",
       "      <td>10001</td>\n",
       "      <td>2016-05-26 20:22:29</td>\n",
       "      <td>0</td>\n",
       "      <td>8</td>\n",
       "      <td>7</td>\n",
       "      <td>8</td>\n",
       "    </tr>\n",
       "    <tr>\n",
       "      <th>2</th>\n",
       "      <td>8899</td>\n",
       "      <td>100035</td>\n",
       "      <td>2016-04-24 04:24:18</td>\n",
       "      <td>0</td>\n",
       "      <td>1</td>\n",
       "      <td>1</td>\n",
       "      <td>1</td>\n",
       "    </tr>\n",
       "    <tr>\n",
       "      <th>3</th>\n",
       "      <td>10254</td>\n",
       "      <td>100036</td>\n",
       "      <td>2016-05-02 23:50:23</td>\n",
       "      <td>0</td>\n",
       "      <td>1</td>\n",
       "      <td>1</td>\n",
       "      <td>2</td>\n",
       "    </tr>\n",
       "    <tr>\n",
       "      <th>4</th>\n",
       "      <td>10260</td>\n",
       "      <td>100036</td>\n",
       "      <td>2016-05-03 00:17:16</td>\n",
       "      <td>0</td>\n",
       "      <td>2</td>\n",
       "      <td>1</td>\n",
       "      <td>2</td>\n",
       "    </tr>\n",
       "  </tbody>\n",
       "</table>\n",
       "</div>"
      ],
      "text/plain": [
       "  order_id customer_id          order_date  is_canceled  \\\n",
       "0    10741       10001 2016-05-06 01:10:12            0   \n",
       "1    12932       10001 2016-05-26 20:22:29            0   \n",
       "2     8899      100035 2016-04-24 04:24:18            0   \n",
       "3    10254      100036 2016-05-02 23:50:23            0   \n",
       "4    10260      100036 2016-05-03 00:17:16            0   \n",
       "\n",
       "   customer_order_number  min_order_number  max_order_number  \n",
       "0                      7                 7                 8  \n",
       "1                      8                 7                 8  \n",
       "2                      1                 1                 1  \n",
       "3                      1                 1                 2  \n",
       "4                      2                 1                 2  "
      ]
     },
     "execution_count": 22,
     "metadata": {},
     "output_type": "execute_result"
    }
   ],
   "source": [
    "#sort the data set \n",
    "Data = Data.sort_values(by=['customer_id', 'order_date'])\n",
    "Data = Data.reset_index(drop=True)\n",
    "Data.head()"
   ]
  },
  {
   "cell_type": "code",
   "execution_count": 23,
   "metadata": {
    "scrolled": true
   },
   "outputs": [
    {
     "data": {
      "application/vnd.jupyter.widget-view+json": {
       "model_id": "938d31f8f3804ea18735e7ba9efcdee9",
       "version_major": 2,
       "version_minor": 0
      },
      "text/plain": [
       "A Jupyter Widget"
      ]
     },
     "metadata": {},
     "output_type": "display_data"
    },
    {
     "name": "stdout",
     "output_type": "stream",
     "text": [
      "\n"
     ]
    }
   ],
   "source": [
    "Data['time_delta'] = 0\n",
    "for i in tqdm_notebook(range(len(Data.order_id) - 1)):\n",
    "    Data.time_delta[i] = (Data.order_date[i+1].date() - Data.order_date[i].date()).days"
   ]
  },
  {
   "cell_type": "code",
   "execution_count": 24,
   "metadata": {
    "collapsed": true
   },
   "outputs": [],
   "source": [
    "#remove the row with the last order since time delta for that order will be substracted from next customer_id order date\n",
    "Data_no_max = Data[Data.customer_order_number != Data.max_order_number]"
   ]
  },
  {
   "cell_type": "code",
   "execution_count": 25,
   "metadata": {},
   "outputs": [
    {
     "data": {
      "image/png": "[encoded data removed]",
      "text/plain": [
       "<matplotlib.figure.Figure at 0x7f842f188160>"
      ]
     },
     "metadata": {},
     "output_type": "display_data"
    }
   ],
   "source": [
    "plt.figure(figsize=(12,5))\n",
    "sns.distplot(Data_no_max.time_delta, kde=False, bins=100)\n",
    "#red line - average\n",
    "plt.axvline(x=np.mean(Data_no_max.time_delta), c='r', linewidth=2)\n",
    "#green line - median\n",
    "plt.axvline(x=np.median(Data_no_max.time_delta), c='g', linewidth=2)\n",
    "plt.title('Distibution of Time Delta for Whole Data Set')\n",
    "plt.xlabel('Time Delta (days)')\n",
    "plt.ylabel('Count')\n",
    "plt.show()"
   ]
  },
  {
   "cell_type": "code",
   "execution_count": 26,
   "metadata": {},
   "outputs": [
    {
     "name": "stdout",
     "output_type": "stream",
     "text": [
      "Average dT over all transactions: 9.36\n",
      "Median of dT over all transactions: 4\n",
      "Mode of dT over all transactions: 0\n"
     ]
    }
   ],
   "source": [
    "print('Average dT over all transactions: %.2f' %(np.mean(Data_no_max.time_delta)))\n",
    "print('Median of dT over all transactions: %.f' %(np.median(Data_no_max.time_delta)))\n",
    "print('Mode of dT over all transactions: %.f' %(mode(Data_no_max.time_delta)))"
   ]
  },
  {
   "cell_type": "code",
   "execution_count": 27,
   "metadata": {},
   "outputs": [
    {
     "name": "stdout",
     "output_type": "stream",
     "text": [
      "10% of transactions have been made within next 0 day(s)\n",
      "20% of transactions have been made within next 0 day(s)\n",
      "30% of transactions have been made within next 1 day(s)\n",
      "40% of transactions have been made within next 2 day(s)\n",
      "50% of transactions have been made within next 4 day(s)\n",
      "60% of transactions have been made within next 6 day(s)\n",
      "70% of transactions have been made within next 8 day(s)\n",
      "80% of transactions have been made within next 14 day(s)\n",
      "90% of transactions have been made within next 25 day(s)\n",
      "100% of transactions have been made within next 174 day(s)\n"
     ]
    }
   ],
   "source": [
    "for i in np.arange(0.1, 1.1, 0.1):\n",
    "    print(str(int(i*100)) + '% of transactions have been made within next ' + str(int(Data_no_max.time_delta.quantile(i))) + ' day(s)')"
   ]
  },
  {
   "cell_type": "code",
   "execution_count": 28,
   "metadata": {},
   "outputs": [
    {
     "data": {
      "image/png": "[encoded data removed]",
      "text/plain": [
       "<matplotlib.figure.Figure at 0x7f8427ad0400>"
      ]
     },
     "metadata": {},
     "output_type": "display_data"
    }
   ],
   "source": [
    "plt.figure(figsize=(12,5))\n",
    "sns.regplot(x=\"time_delta\", \n",
    "            y=\"customer_order_number\", \n",
    "            data=Data_no_max, \n",
    "            scatter_kws={'alpha':0.2})\n",
    "plt.title('Time Delta vs Order Number')\n",
    "plt.xlabel('Time Delta (days)')\n",
    "plt.ylabel('Order Number')\n",
    "plt.show()"
   ]
  },
  {
   "cell_type": "markdown",
   "metadata": {},
   "source": [
    "### Compare FCO vs not FCO"
   ]
  },
  {
   "cell_type": "code",
   "execution_count": 29,
   "metadata": {
    "collapsed": true
   },
   "outputs": [],
   "source": [
    "def fco_vs_not_fco(num):\n",
    "    \"\"\"\n",
    "    Function takes number of trasanction to compare time delta with first transaction.\n",
    "    \n",
    "    Input:\n",
    "    num - number of trasanction to compare with\n",
    "    \n",
    "    Output:\n",
    "    1 - plot of distribution ot time deltas over all transactions \n",
    "        w/ average value as red line and median as green line\n",
    "    2 - numeric values for mean and (.25, .5, .75, 1.) quantiles\n",
    "    \"\"\"\n",
    "    Temp = []\n",
    "    Temp = Data_no_max[Data_no_max.max_order_number >= num] #remove transaction if total number of transaction is less than compared\n",
    "    Temp = Temp[Temp.min_order_number == 1]\n",
    "    Temp = Temp[Temp.customer_order_number.isin(range(num))] #keep only rows in a range [1, number - 1]\n",
    "    Temp = Temp.groupby(Temp.customer_id)[['time_delta']].sum() #get the time delta between 1st and N transaction\n",
    "    \n",
    "    #plot the distribution\n",
    "    plt.figure(figsize=(12,5))\n",
    "    sns.distplot(Temp.time_delta, kde=False, bins=100)\n",
    "    #red line - average\n",
    "    plt.axvline(x=np.mean(Temp.time_delta), c='r', linewidth=2)\n",
    "    #green line - median\n",
    "    plt.axvline(x=np.median(Temp.time_delta), c='g', linewidth=2)\n",
    "    plt.title('Distibution of Time Delta between 1 and ' + str(num) + ' transaction')\n",
    "    plt.show()\n",
    "    \n",
    "    #show numeric values\n",
    "    print('Average dT between 1 and ' + str(int(num)) + ' transaction: %.2f' %(np.mean(Temp.time_delta)))\n",
    "    for i in np.arange(0.25, 1.1, 0.25):\n",
    "        print(str(int(i*100)) + '% of transactions have been made within next ' + str(int(Temp.time_delta.quantile(i))) + ' day(s)')"
   ]
  },
  {
   "cell_type": "code",
   "execution_count": 30,
   "metadata": {},
   "outputs": [
    {
     "data": {
      "image/png": "[encoded data removed]",
      "text/plain": [
       "<matplotlib.figure.Figure at 0x7f842715c5c0>"
      ]
     },
     "metadata": {},
     "output_type": "display_data"
    },
    {
     "name": "stdout",
     "output_type": "stream",
     "text": [
      "Average dT between 1 and 2 transaction: 9.85\n",
      "25% of transactions have been made within next 0 day(s)\n",
      "50% of transactions have been made within next 4 day(s)\n",
      "75% of transactions have been made within next 12 day(s)\n",
      "100% of transactions have been made within next 138 day(s)\n"
     ]
    }
   ],
   "source": [
    "fco_vs_not_fco(2)"
   ]
  },
  {
   "cell_type": "code",
   "execution_count": 31,
   "metadata": {},
   "outputs": [
    {
     "data": {
      "image/png": "[encoded data removed]",
      "text/plain": [
       "<matplotlib.figure.Figure at 0x7f84270cfe48>"
      ]
     },
     "metadata": {},
     "output_type": "display_data"
    },
    {
     "name": "stdout",
     "output_type": "stream",
     "text": [
      "Average dT between 1 and 5 transaction: 30.07\n",
      "25% of transactions have been made within next 11 day(s)\n",
      "50% of transactions have been made within next 20 day(s)\n",
      "75% of transactions have been made within next 42 day(s)\n",
      "100% of transactions have been made within next 139 day(s)\n"
     ]
    }
   ],
   "source": [
    "fco_vs_not_fco(5)"
   ]
  },
  {
   "cell_type": "code",
   "execution_count": 32,
   "metadata": {},
   "outputs": [
    {
     "name": "stderr",
     "output_type": "stream",
     "text": [
      "/home/ruslan/Soft/anaconda3/lib/python3.6/site-packages/numpy/core/fromnumeric.py:2909: RuntimeWarning:\n",
      "\n",
      "Mean of empty slice.\n",
      "\n",
      "/home/ruslan/Soft/anaconda3/lib/python3.6/site-packages/numpy/core/_methods.py:80: RuntimeWarning:\n",
      "\n",
      "invalid value encountered in double_scalars\n",
      "\n"
     ]
    },
    {
     "data": {
      "text/html": [
       "<div>\n",
       "<style>\n",
       "    .dataframe thead tr:only-child th {\n",
       "        text-align: right;\n",
       "    }\n",
       "\n",
       "    .dataframe thead th {\n",
       "        text-align: left;\n",
       "    }\n",
       "\n",
       "    .dataframe tbody tr th {\n",
       "        vertical-align: top;\n",
       "    }\n",
       "</style>\n",
       "<table border=\"1\" class=\"dataframe\">\n",
       "  <thead>\n",
       "    <tr style=\"text-align: right;\">\n",
       "      <th></th>\n",
       "      <th>interval</th>\n",
       "      <th>days</th>\n",
       "    </tr>\n",
       "  </thead>\n",
       "  <tbody>\n",
       "    <tr>\n",
       "      <th>0</th>\n",
       "      <td>[1-2]</td>\n",
       "      <td>4.0</td>\n",
       "    </tr>\n",
       "    <tr>\n",
       "      <th>1</th>\n",
       "      <td>[1-3]</td>\n",
       "      <td>10.0</td>\n",
       "    </tr>\n",
       "    <tr>\n",
       "      <th>2</th>\n",
       "      <td>[1-4]</td>\n",
       "      <td>16.0</td>\n",
       "    </tr>\n",
       "    <tr>\n",
       "      <th>3</th>\n",
       "      <td>[1-5]</td>\n",
       "      <td>20.5</td>\n",
       "    </tr>\n",
       "    <tr>\n",
       "      <th>4</th>\n",
       "      <td>[1-6]</td>\n",
       "      <td>25.0</td>\n",
       "    </tr>\n",
       "  </tbody>\n",
       "</table>\n",
       "</div>"
      ],
      "text/plain": [
       "  interval  days\n",
       "0    [1-2]   4.0\n",
       "1    [1-3]  10.0\n",
       "2    [1-4]  16.0\n",
       "3    [1-5]  20.5\n",
       "4    [1-6]  25.0"
      ]
     },
     "execution_count": 32,
     "metadata": {},
     "output_type": "execute_result"
    }
   ],
   "source": [
    "#creat new table which will hold median values for time delta between all orders compared to first\n",
    "median_over_dt = pd.DataFrame(columns=['interval','days'])\n",
    "for i in range(2, Data_no_max.max_order_number.max() +1):\n",
    "    if(Data_no_max.max_order_number.isin([i]).sum() != 0):\n",
    "        Temp = []\n",
    "        Temp = Data_no_max[Data_no_max.max_order_number >= i] \n",
    "        Temp = Temp[Temp.customer_order_number.isin(range(i))]\n",
    "        Temp = Temp[Temp.min_order_number == 1]\n",
    "        Temp = Temp.groupby(Temp.customer_id)[['time_delta']].sum()\n",
    "        median_over_dt = median_over_dt.append({'interval': str('[1-' + str(i) + ']'), \n",
    "                                                'days': np.median(Temp.time_delta)}, \n",
    "                                               ignore_index=True)\n",
    "median_over_dt.head()"
   ]
  },
  {
   "cell_type": "code",
   "execution_count": 33,
   "metadata": {
    "collapsed": true
   },
   "outputs": [],
   "source": [
    "median_over_dt = median_over_dt.dropna()"
   ]
  },
  {
   "cell_type": "code",
   "execution_count": 34,
   "metadata": {},
   "outputs": [
    {
     "data": {
      "application/vnd.plotly.v1+json": {
       "data": [
        {
         "orientation": "h",
         "type": "bar",
         "uid": "d1cd0e46-8cf9-11e8-bf79-843a4b06963c",
         "x": [
          4,
          10,
          16,
          20.5,
          25,
          29,
          34,
          39,
          43,
          45.5,
          50,
          58,
          58.5,
          58.5,
          63,
          63,
          71,
          76.5,
          82,
          82,
          67,
          75,
          77,
          89.5,
          84,
          73,
          59,
          87,
          87,
          87,
          68,
          72,
          73,
          74.5,
          74.5,
          83,
          83,
          83,
          58,
          84,
          86.5,
          88.5,
          89,
          65,
          72,
          75,
          75,
          76.5,
          79.5,
          135,
          136,
          143,
          148,
          148
         ],
         "y": [
          "[1-2]",
          "[1-3]",
          "[1-4]",
          "[1-5]",
          "[1-6]",
          "[1-7]",
          "[1-8]",
          "[1-9]",
          "[1-10]",
          "[1-11]",
          "[1-12]",
          "[1-13]",
          "[1-14]",
          "[1-15]",
          "[1-16]",
          "[1-17]",
          "[1-18]",
          "[1-19]",
          "[1-20]",
          "[1-21]",
          "[1-22]",
          "[1-23]",
          "[1-24]",
          "[1-25]",
          "[1-26]",
          "[1-27]",
          "[1-28]",
          "[1-29]",
          "[1-30]",
          "[1-31]",
          "[1-32]",
          "[1-33]",
          "[1-34]",
          "[1-35]",
          "[1-36]",
          "[1-37]",
          "[1-38]",
          "[1-39]",
          "[1-40]",
          "[1-41]",
          "[1-42]",
          "[1-43]",
          "[1-44]",
          "[1-45]",
          "[1-46]",
          "[1-47]",
          "[1-48]",
          "[1-49]",
          "[1-50]",
          "[1-51]",
          "[1-52]",
          "[1-53]",
          "[1-55]",
          "[1-56]"
         ]
        }
       ],
       "layout": {
        "title": "Median of time delta between intervals",
        "xaxis": {
         "title": "Days between Orders"
        },
        "yaxis": {
         "title": "Interval between transactions"
        }
       }
      },
      "text/html": [
       "<div id=\"3f40d166-fa5f-443b-83a1-8a1ecd87e3ff\" style=\"height: 525px; width: 100%;\" class=\"plotly-graph-div\"></div><script type=\"text/javascript\">require([\"plotly\"], function(Plotly) { window.PLOTLYENV=window.PLOTLYENV || {};window.PLOTLYENV.BASE_URL=\"https://plot.ly\";\n",
       "        Plotly.plot(\n",
       "            '3f40d166-fa5f-443b-83a1-8a1ecd87e3ff',\n",
       "            [{\"orientation\": \"h\", \"x\": [4.0, 10.0, 16.0, 20.5, 25.0, 29.0, 34.0, 39.0, 43.0, 45.5, 50.0, 58.0, 58.5, 58.5, 63.0, 63.0, 71.0, 76.5, 82.0, 82.0, 67.0, 75.0, 77.0, 89.5, 84.0, 73.0, 59.0, 87.0, 87.0, 87.0, 68.0, 72.0, 73.0, 74.5, 74.5, 83.0, 83.0, 83.0, 58.0, 84.0, 86.5, 88.5, 89.0, 65.0, 72.0, 75.0, 75.0, 76.5, 79.5, 135.0, 136.0, 143.0, 148.0, 148.0], \"y\": [\"[1-2]\", \"[1-3]\", \"[1-4]\", \"[1-5]\", \"[1-6]\", \"[1-7]\", \"[1-8]\", \"[1-9]\", \"[1-10]\", \"[1-11]\", \"[1-12]\", \"[1-13]\", \"[1-14]\", \"[1-15]\", \"[1-16]\", \"[1-17]\", \"[1-18]\", \"[1-19]\", \"[1-20]\", \"[1-21]\", \"[1-22]\", \"[1-23]\", \"[1-24]\", \"[1-25]\", \"[1-26]\", \"[1-27]\", \"[1-28]\", \"[1-29]\", \"[1-30]\", \"[1-31]\", \"[1-32]\", \"[1-33]\", \"[1-34]\", \"[1-35]\", \"[1-36]\", \"[1-37]\", \"[1-38]\", \"[1-39]\", \"[1-40]\", \"[1-41]\", \"[1-42]\", \"[1-43]\", \"[1-44]\", \"[1-45]\", \"[1-46]\", \"[1-47]\", \"[1-48]\", \"[1-49]\", \"[1-50]\", \"[1-51]\", \"[1-52]\", \"[1-53]\", \"[1-55]\", \"[1-56]\"], \"type\": \"bar\", \"uid\": \"d1cd0e46-8cf9-11e8-bf79-843a4b06963c\"}],\n",
       "            {\"title\": \"Median of time delta between intervals\", \"xaxis\": {\"title\": \"Days between Orders\"}, \"yaxis\": {\"title\": \"Interval between transactions\"}},\n",
       "            {\"showLink\": true, \"linkText\": \"Export to plot.ly\"}\n",
       "        ).then(function () {return Plotly.addFrames('3f40d166-fa5f-443b-83a1-8a1ecd87e3ff',{});}).then(function(){Plotly.animate('3f40d166-fa5f-443b-83a1-8a1ecd87e3ff');})\n",
       "        });</script>"
      ],
      "text/vnd.plotly.v1+html": [
       "<div id=\"3f40d166-fa5f-443b-83a1-8a1ecd87e3ff\" style=\"height: 525px; width: 100%;\" class=\"plotly-graph-div\"></div><script type=\"text/javascript\">require([\"plotly\"], function(Plotly) { window.PLOTLYENV=window.PLOTLYENV || {};window.PLOTLYENV.BASE_URL=\"https://plot.ly\";\n",
       "        Plotly.plot(\n",
       "            '3f40d166-fa5f-443b-83a1-8a1ecd87e3ff',\n",
       "            [{\"orientation\": \"h\", \"x\": [4.0, 10.0, 16.0, 20.5, 25.0, 29.0, 34.0, 39.0, 43.0, 45.5, 50.0, 58.0, 58.5, 58.5, 63.0, 63.0, 71.0, 76.5, 82.0, 82.0, 67.0, 75.0, 77.0, 89.5, 84.0, 73.0, 59.0, 87.0, 87.0, 87.0, 68.0, 72.0, 73.0, 74.5, 74.5, 83.0, 83.0, 83.0, 58.0, 84.0, 86.5, 88.5, 89.0, 65.0, 72.0, 75.0, 75.0, 76.5, 79.5, 135.0, 136.0, 143.0, 148.0, 148.0], \"y\": [\"[1-2]\", \"[1-3]\", \"[1-4]\", \"[1-5]\", \"[1-6]\", \"[1-7]\", \"[1-8]\", \"[1-9]\", \"[1-10]\", \"[1-11]\", \"[1-12]\", \"[1-13]\", \"[1-14]\", \"[1-15]\", \"[1-16]\", \"[1-17]\", \"[1-18]\", \"[1-19]\", \"[1-20]\", \"[1-21]\", \"[1-22]\", \"[1-23]\", \"[1-24]\", \"[1-25]\", \"[1-26]\", \"[1-27]\", \"[1-28]\", \"[1-29]\", \"[1-30]\", \"[1-31]\", \"[1-32]\", \"[1-33]\", \"[1-34]\", \"[1-35]\", \"[1-36]\", \"[1-37]\", \"[1-38]\", \"[1-39]\", \"[1-40]\", \"[1-41]\", \"[1-42]\", \"[1-43]\", \"[1-44]\", \"[1-45]\", \"[1-46]\", \"[1-47]\", \"[1-48]\", \"[1-49]\", \"[1-50]\", \"[1-51]\", \"[1-52]\", \"[1-53]\", \"[1-55]\", \"[1-56]\"], \"type\": \"bar\", \"uid\": \"d1cd0e46-8cf9-11e8-bf79-843a4b06963c\"}],\n",
       "            {\"title\": \"Median of time delta between intervals\", \"xaxis\": {\"title\": \"Days between Orders\"}, \"yaxis\": {\"title\": \"Interval between transactions\"}},\n",
       "            {\"showLink\": true, \"linkText\": \"Export to plot.ly\"}\n",
       "        ).then(function () {return Plotly.addFrames('3f40d166-fa5f-443b-83a1-8a1ecd87e3ff',{});}).then(function(){Plotly.animate('3f40d166-fa5f-443b-83a1-8a1ecd87e3ff');})\n",
       "        });</script>"
      ]
     },
     "metadata": {},
     "output_type": "display_data"
    }
   ],
   "source": [
    "data = [go.Bar(x=median_over_dt.days,\n",
    "              y=median_over_dt.interval, \n",
    "              orientation='h')]\n",
    "layout = go.Layout(\n",
    "    title='Median of time delta between intervals',\n",
    "    xaxis=dict(title='Days between Orders'),\n",
    "    yaxis=dict(title='Interval between transactions')\n",
    ")\n",
    "\n",
    "fig = go.Figure(data=data, layout=layout)\n",
    "iplot(fig)"
   ]
  },
  {
   "cell_type": "markdown",
   "metadata": {},
   "source": [
    "**No surprise that the higher number of transaction the more days have been passed from first one.**"
   ]
  },
  {
   "cell_type": "markdown",
   "metadata": {},
   "source": [
    "### Exploring multi-orders"
   ]
  },
  {
   "cell_type": "code",
   "execution_count": 35,
   "metadata": {},
   "outputs": [
    {
     "data": {
      "application/vnd.jupyter.widget-view+json": {
       "model_id": "54dbaf0b1115415fb5f72b80cfe63c8b",
       "version_major": 2,
       "version_minor": 0
      },
      "text/plain": [
       "A Jupyter Widget"
      ]
     },
     "metadata": {},
     "output_type": "display_data"
    },
    {
     "name": "stdout",
     "output_type": "stream",
     "text": [
      "\n"
     ]
    }
   ],
   "source": [
    "Data['time_delta_sec'] = 0\n",
    "for i in tqdm_notebook(range(len(Data.order_id) - 1)):\n",
    "    Data.time_delta_sec[i] = (Data.order_date[i+1] - Data.order_date[i]).seconds"
   ]
  },
  {
   "cell_type": "code",
   "execution_count": 36,
   "metadata": {},
   "outputs": [],
   "source": [
    "Data_sec = Data[Data.customer_order_number != Data.max_order_number]\n",
    "Data_sec = Data_sec[Data_sec.time_delta == 0]"
   ]
  },
  {
   "cell_type": "code",
   "execution_count": 37,
   "metadata": {},
   "outputs": [],
   "source": [
    "Data_sec.time_delta_sec = Data_sec.time_delta_sec.apply(lambda x: int(x*0.0166667)) #convert to minutes"
   ]
  },
  {
   "cell_type": "code",
   "execution_count": 38,
   "metadata": {},
   "outputs": [
    {
     "data": {
      "image/png": "[encoded data removed]",
      "text/plain": [
       "<matplotlib.figure.Figure at 0x7f8426f70128>"
      ]
     },
     "metadata": {},
     "output_type": "display_data"
    }
   ],
   "source": [
    "plt.figure(figsize=(12,5))\n",
    "sns.distplot(Data_sec.time_delta_sec, kde=False, bins=100)\n",
    "#red line - average\n",
    "plt.axvline(x=np.mean(Data_sec.time_delta_sec), c='r', linewidth=2)\n",
    "#green line - median\n",
    "plt.axvline(x=np.median(Data_sec.time_delta_sec), c='g', linewidth=2)\n",
    "plt.title('Distibution of Time Delta for Orders Made in the Same Day')\n",
    "plt.xlabel('Time Delta (minutes)')\n",
    "plt.ylabel('Count')\n",
    "plt.show()"
   ]
  },
  {
   "cell_type": "code",
   "execution_count": 39,
   "metadata": {},
   "outputs": [
    {
     "name": "stdout",
     "output_type": "stream",
     "text": [
      "Average dT over all transactions: 112.56\n",
      "Median of dT over all transactions: 19\n",
      "Mode of dT over all transactions: 6\n"
     ]
    }
   ],
   "source": [
    "print('Average dT over all transactions: %.2f' %(np.mean(Data_sec.time_delta_sec)))\n",
    "print('Median of dT over all transactions: %.f' %(np.median(Data_sec.time_delta_sec)))\n",
    "print('Mode of dT over all transactions: %.f' %(mode(Data_sec.time_delta_sec)))"
   ]
  },
  {
   "cell_type": "markdown",
   "metadata": {},
   "source": [
    "**Mode of the distribution of time delta (in minutes) is 6 (median = 19). Mode of the distribution of time delta (in days) is 0. That means that customers don't trend to make next order during the same day as previous order, but during following 6 minutes. We can call say that dT_multi = 6 (orders that were made in 6 minutes after previous order are considered as *'multi-orders'*).**"
   ]
  },
  {
   "cell_type": "markdown",
   "metadata": {},
   "source": [
    "## Task 4. Investigate customer retention_rate: % of customers who return after completing an order\n",
    "TIP: probably you would need to assign customer_return_status for each order\n",
    "\n",
    "1. customer is considered 'returned' if he placed one more order later\n",
    "\n",
    "2. customer is considered 'lost' if he doesn't return and enough time has passed (dT_loss). What customer lost time period dT_loss would you choose and why?\n",
    "\n",
    "3. if customer has not returned but not enough time has passed yet (at least according to dataset, where last record=current time) - customer_return_status is considered 'N/A'\n",
    "\n",
    "\n",
    "* investigate retention_rate vs customer_order_number (altering in [1:5] range, same as with cancel_rate)\n",
    "\n",
    "* compare customer retention after order was canceled vs successfully finished"
   ]
  },
  {
   "cell_type": "code",
   "execution_count": 40,
   "metadata": {},
   "outputs": [
    {
     "name": "stdout",
     "output_type": "stream",
     "text": [
      ".95 quantile of time_delta distribution = 40\n"
     ]
    }
   ],
   "source": [
    "print('.95 quantile of time_delta distribution =', int(Data_no_max.time_delta.quantile(.95)))"
   ]
  },
  {
   "cell_type": "markdown",
   "metadata": {},
   "source": [
    "**95% of customers return after 40 days after previous order was made. Customers who have not made an order after 40 days will be considered as *lost* (~95% probability that they will not come back).**"
   ]
  },
  {
   "cell_type": "code",
   "execution_count": 41,
   "metadata": {},
   "outputs": [
    {
     "name": "stdout",
     "output_type": "stream",
     "text": [
      "Threshold date (loss) = 2016-05-21\n"
     ]
    }
   ],
   "source": [
    "dT_loss = int(Data_no_max.time_delta.quantile(.95))\n",
    "thresh_date = Data.order_date.max() - timedelta(days=dT_loss)\n",
    "print('Threshold date (loss) = ' + str(thresh_date.date()))"
   ]
  },
  {
   "cell_type": "code",
   "execution_count": 42,
   "metadata": {
    "collapsed": true
   },
   "outputs": [],
   "source": [
    "Data_status = Data.copy()\n",
    "Data_status = Data[Data.customer_order_number == Data.max_order_number] #keep just one row for each customer\n",
    "Data_status = Data_status.reset_index(drop=True)\n",
    "Data_status['customer_return_status'] = 0 "
   ]
  },
  {
   "cell_type": "code",
   "execution_count": 43,
   "metadata": {
    "collapsed": true
   },
   "outputs": [],
   "source": [
    "Data_status.customer_return_status[Data_status.order_date < thresh_date] = 'lost'"
   ]
  },
  {
   "cell_type": "code",
   "execution_count": 44,
   "metadata": {},
   "outputs": [
    {
     "name": "stdout",
     "output_type": "stream",
     "text": [
      ".9 quantile of time_delta distribution = 25\n"
     ]
    }
   ],
   "source": [
    "print('.9 quantile of time_delta distribution =', int(Data_no_max.time_delta.quantile(.9)))"
   ]
  },
  {
   "cell_type": "markdown",
   "metadata": {},
   "source": [
    "**90% of customers return after 25 days after previous order was made. Customers with the last order made 25 days ago will be considered as *N/A*.**"
   ]
  },
  {
   "cell_type": "code",
   "execution_count": 45,
   "metadata": {},
   "outputs": [
    {
     "name": "stdout",
     "output_type": "stream",
     "text": [
      "Threshold date (N/A) = 2016-06-05\n"
     ]
    }
   ],
   "source": [
    "dT_na = int(Data_no_max.time_delta.quantile(.9))\n",
    "thresh_date_na = Data.order_date.max() - timedelta(days=dT_na)\n",
    "print('Threshold date (N/A) = ' + str(thresh_date_na.date()))"
   ]
  },
  {
   "cell_type": "code",
   "execution_count": 46,
   "metadata": {
    "collapsed": true
   },
   "outputs": [],
   "source": [
    "Data_status.customer_return_status[(Data_status.order_date >= thresh_date) &\\\n",
    "                                  (Data_status.order_date <= thresh_date_na)] = 'N/A'"
   ]
  },
  {
   "cell_type": "markdown",
   "metadata": {},
   "source": [
    "**All other users (with orders within last 25 days will be considered as *returned*.**"
   ]
  },
  {
   "cell_type": "code",
   "execution_count": 47,
   "metadata": {
    "collapsed": true
   },
   "outputs": [],
   "source": [
    "Data_status.customer_return_status[Data_status.order_date > thresh_date_na] = 'returned'"
   ]
  },
  {
   "cell_type": "markdown",
   "metadata": {},
   "source": [
    "**So in the end status classification looks like this:**\n",
    "\n",
    "|Day of last order|Status|\n",
    "|:--|:--|\n",
    "|(-$\\infty$; 40 days ago)|**Lost**|\n",
    "|[40 days ago; 25 days ago]| **N/A**|\n",
    "|(25 days ago; Today]|**Returned**|"
   ]
  },
  {
   "cell_type": "code",
   "execution_count": 48,
   "metadata": {
    "collapsed": true
   },
   "outputs": [],
   "source": [
    "status_df = pd.DataFrame(Data_status.groupby('customer_return_status')['order_id'].nunique())\n",
    "status_df.columns = ['amount']"
   ]
  },
  {
   "cell_type": "code",
   "execution_count": 49,
   "metadata": {},
   "outputs": [
    {
     "name": "stdout",
     "output_type": "stream",
     "text": [
      "10.68% of customers are N/A\n",
      "69.21% of customers are lost\n",
      "20.11% of customers are returned\n"
     ]
    }
   ],
   "source": [
    "for i in range(len(status_df)):\n",
    "    print('%.2f' %(status_df.amount[i]*100/status_df.amount.sum()) + '% of customers are ' + status_df.index[i])"
   ]
  },
  {
   "cell_type": "code",
   "execution_count": 50,
   "metadata": {
    "collapsed": true
   },
   "outputs": [],
   "source": [
    "Data = pd.merge(Data, Data_status.loc[:, ['customer_id', 'customer_return_status']], on='customer_id', how='left')"
   ]
  },
  {
   "cell_type": "markdown",
   "metadata": {},
   "source": [
    "### Retention_rate VS Customer_order_number\n",
    "\n",
    "*for customers with [1:5] orders range*"
   ]
  },
  {
   "cell_type": "code",
   "execution_count": 51,
   "metadata": {},
   "outputs": [],
   "source": [
    "Data_filtered = Data_status[(Data_status.min_order_number == 1) & (Data_status.max_order_number <= 5)]\n",
    "Data_filtered = Data_filtered.groupby(['max_order_number', 'customer_return_status'])[['customer_id']].count()\n",
    "Data_filtered = Data_filtered.rename(columns={'customer_id': 'amount'})"
   ]
  },
  {
   "cell_type": "code",
   "execution_count": 52,
   "metadata": {},
   "outputs": [
    {
     "data": {
      "text/html": [
       "<div>\n",
       "<style>\n",
       "    .dataframe thead tr:only-child th {\n",
       "        text-align: right;\n",
       "    }\n",
       "\n",
       "    .dataframe thead th {\n",
       "        text-align: left;\n",
       "    }\n",
       "\n",
       "    .dataframe tbody tr th {\n",
       "        vertical-align: top;\n",
       "    }\n",
       "</style>\n",
       "<table border=\"1\" class=\"dataframe\">\n",
       "  <thead>\n",
       "    <tr style=\"text-align: right;\">\n",
       "      <th></th>\n",
       "      <th></th>\n",
       "      <th>amount</th>\n",
       "      <th>total_amount</th>\n",
       "      <th>ratio</th>\n",
       "    </tr>\n",
       "    <tr>\n",
       "      <th>max_order_number</th>\n",
       "      <th>customer_return_status</th>\n",
       "      <th></th>\n",
       "      <th></th>\n",
       "      <th></th>\n",
       "    </tr>\n",
       "  </thead>\n",
       "  <tbody>\n",
       "    <tr>\n",
       "      <th rowspan=\"3\" valign=\"top\">1</th>\n",
       "      <th>N/A</th>\n",
       "      <td>275</td>\n",
       "      <td>2362</td>\n",
       "      <td>0.116427</td>\n",
       "    </tr>\n",
       "    <tr>\n",
       "      <th>lost</th>\n",
       "      <td>1719</td>\n",
       "      <td>2362</td>\n",
       "      <td>0.727773</td>\n",
       "    </tr>\n",
       "    <tr>\n",
       "      <th>returned</th>\n",
       "      <td>368</td>\n",
       "      <td>2362</td>\n",
       "      <td>0.155800</td>\n",
       "    </tr>\n",
       "    <tr>\n",
       "      <th rowspan=\"3\" valign=\"top\">2</th>\n",
       "      <th>N/A</th>\n",
       "      <td>85</td>\n",
       "      <td>598</td>\n",
       "      <td>0.142140</td>\n",
       "    </tr>\n",
       "    <tr>\n",
       "      <th>lost</th>\n",
       "      <td>382</td>\n",
       "      <td>598</td>\n",
       "      <td>0.638796</td>\n",
       "    </tr>\n",
       "    <tr>\n",
       "      <th>returned</th>\n",
       "      <td>131</td>\n",
       "      <td>598</td>\n",
       "      <td>0.219064</td>\n",
       "    </tr>\n",
       "    <tr>\n",
       "      <th rowspan=\"3\" valign=\"top\">3</th>\n",
       "      <th>N/A</th>\n",
       "      <td>43</td>\n",
       "      <td>267</td>\n",
       "      <td>0.161049</td>\n",
       "    </tr>\n",
       "    <tr>\n",
       "      <th>lost</th>\n",
       "      <td>151</td>\n",
       "      <td>267</td>\n",
       "      <td>0.565543</td>\n",
       "    </tr>\n",
       "    <tr>\n",
       "      <th>returned</th>\n",
       "      <td>73</td>\n",
       "      <td>267</td>\n",
       "      <td>0.273408</td>\n",
       "    </tr>\n",
       "    <tr>\n",
       "      <th rowspan=\"3\" valign=\"top\">4</th>\n",
       "      <th>N/A</th>\n",
       "      <td>20</td>\n",
       "      <td>134</td>\n",
       "      <td>0.149254</td>\n",
       "    </tr>\n",
       "    <tr>\n",
       "      <th>lost</th>\n",
       "      <td>75</td>\n",
       "      <td>134</td>\n",
       "      <td>0.559701</td>\n",
       "    </tr>\n",
       "    <tr>\n",
       "      <th>returned</th>\n",
       "      <td>39</td>\n",
       "      <td>134</td>\n",
       "      <td>0.291045</td>\n",
       "    </tr>\n",
       "    <tr>\n",
       "      <th rowspan=\"3\" valign=\"top\">5</th>\n",
       "      <th>N/A</th>\n",
       "      <td>3</td>\n",
       "      <td>75</td>\n",
       "      <td>0.040000</td>\n",
       "    </tr>\n",
       "    <tr>\n",
       "      <th>lost</th>\n",
       "      <td>46</td>\n",
       "      <td>75</td>\n",
       "      <td>0.613333</td>\n",
       "    </tr>\n",
       "    <tr>\n",
       "      <th>returned</th>\n",
       "      <td>26</td>\n",
       "      <td>75</td>\n",
       "      <td>0.346667</td>\n",
       "    </tr>\n",
       "  </tbody>\n",
       "</table>\n",
       "</div>"
      ],
      "text/plain": [
       "                                         amount  total_amount     ratio\n",
       "max_order_number customer_return_status                                \n",
       "1                N/A                        275          2362  0.116427\n",
       "                 lost                      1719          2362  0.727773\n",
       "                 returned                   368          2362  0.155800\n",
       "2                N/A                         85           598  0.142140\n",
       "                 lost                       382           598  0.638796\n",
       "                 returned                   131           598  0.219064\n",
       "3                N/A                         43           267  0.161049\n",
       "                 lost                       151           267  0.565543\n",
       "                 returned                    73           267  0.273408\n",
       "4                N/A                         20           134  0.149254\n",
       "                 lost                        75           134  0.559701\n",
       "                 returned                    39           134  0.291045\n",
       "5                N/A                          3            75  0.040000\n",
       "                 lost                        46            75  0.613333\n",
       "                 returned                    26            75  0.346667"
      ]
     },
     "execution_count": 52,
     "metadata": {},
     "output_type": "execute_result"
    }
   ],
   "source": [
    "Temp = Data_filtered.groupby('max_order_number')[['amount']].sum()\n",
    "Data_filtered = pd.merge(Data_filtered,\n",
    "                         Temp,\n",
    "                         left_index= True, right_index= True)\n",
    "Data_filtered = Data_filtered.rename(columns={'amount_x': 'amount', 'amount_y': 'total_amount'})\n",
    "Data_filtered['ratio'] = Data_filtered.amount / Data_filtered.total_amount\n",
    "Data_filtered"
   ]
  },
  {
   "cell_type": "code",
   "execution_count": 53,
   "metadata": {},
   "outputs": [],
   "source": [
    "Data_filtered = Data_filtered.reset_index(level=['max_order_number', 'customer_return_status'])"
   ]
  },
  {
   "cell_type": "code",
   "execution_count": 54,
   "metadata": {},
   "outputs": [
    {
     "data": {
      "application/vnd.plotly.v1+json": {
       "data": [
        {
         "name": "N/A",
         "type": "bar",
         "uid": "d935fd78-8cf9-11e8-bf79-843a4b06963c",
         "x": [
          1,
          2,
          3,
          4,
          5
         ],
         "y": [
          0.11642675698560542,
          0.14214046822742474,
          0.16104868913857678,
          0.14925373134328357,
          0.04
         ]
        },
        {
         "name": "returned",
         "type": "bar",
         "uid": "d935fd79-8cf9-11e8-bf79-843a4b06963c",
         "x": [
          1,
          2,
          3,
          4,
          5
         ],
         "y": [
          0.15580016934801016,
          0.21906354515050167,
          0.27340823970037453,
          0.291044776119403,
          0.3466666666666667
         ]
        },
        {
         "name": "lost",
         "type": "bar",
         "uid": "d935fd7a-8cf9-11e8-bf79-843a4b06963c",
         "x": [
          1,
          2,
          3,
          4,
          5
         ],
         "y": [
          0.7277730736663844,
          0.6387959866220736,
          0.5655430711610487,
          0.5597014925373134,
          0.6133333333333333
         ]
        }
       ],
       "layout": {
        "barmode": "stack",
        "title": "Customers Status by Max Order Number",
        "xaxis": {
         "title": "Max Order Number"
        },
        "yaxis": {
         "title": "Ratio"
        }
       }
      },
      "text/html": [
       "<div id=\"35d1aa86-c047-452d-88da-12e029e2c3ba\" style=\"height: 525px; width: 100%;\" class=\"plotly-graph-div\"></div><script type=\"text/javascript\">require([\"plotly\"], function(Plotly) { window.PLOTLYENV=window.PLOTLYENV || {};window.PLOTLYENV.BASE_URL=\"https://plot.ly\";\n",
       "        Plotly.plot(\n",
       "            '35d1aa86-c047-452d-88da-12e029e2c3ba',\n",
       "            [{\"name\": \"N/A\", \"x\": [1.0, 2.0, 3.0, 4.0, 5.0], \"y\": [0.11642675698560542, 0.14214046822742474, 0.16104868913857678, 0.14925373134328357, 0.04], \"type\": \"bar\", \"uid\": \"d935fd78-8cf9-11e8-bf79-843a4b06963c\"}, {\"name\": \"returned\", \"x\": [1.0, 2.0, 3.0, 4.0, 5.0], \"y\": [0.15580016934801016, 0.21906354515050167, 0.27340823970037453, 0.291044776119403, 0.3466666666666667], \"type\": \"bar\", \"uid\": \"d935fd79-8cf9-11e8-bf79-843a4b06963c\"}, {\"name\": \"lost\", \"x\": [1.0, 2.0, 3.0, 4.0, 5.0], \"y\": [0.7277730736663844, 0.6387959866220736, 0.5655430711610487, 0.5597014925373134, 0.6133333333333333], \"type\": \"bar\", \"uid\": \"d935fd7a-8cf9-11e8-bf79-843a4b06963c\"}],\n",
       "            {\"barmode\": \"stack\", \"title\": \"Customers Status by Max Order Number\", \"xaxis\": {\"title\": \"Max Order Number\"}, \"yaxis\": {\"title\": \"Ratio\"}},\n",
       "            {\"showLink\": false, \"linkText\": \"Export to plot.ly\"}\n",
       "        ).then(function () {return Plotly.addFrames('35d1aa86-c047-452d-88da-12e029e2c3ba',{});}).then(function(){Plotly.animate('35d1aa86-c047-452d-88da-12e029e2c3ba');})\n",
       "        });</script>"
      ],
      "text/vnd.plotly.v1+html": [
       "<div id=\"35d1aa86-c047-452d-88da-12e029e2c3ba\" style=\"height: 525px; width: 100%;\" class=\"plotly-graph-div\"></div><script type=\"text/javascript\">require([\"plotly\"], function(Plotly) { window.PLOTLYENV=window.PLOTLYENV || {};window.PLOTLYENV.BASE_URL=\"https://plot.ly\";\n",
       "        Plotly.plot(\n",
       "            '35d1aa86-c047-452d-88da-12e029e2c3ba',\n",
       "            [{\"name\": \"N/A\", \"x\": [1.0, 2.0, 3.0, 4.0, 5.0], \"y\": [0.11642675698560542, 0.14214046822742474, 0.16104868913857678, 0.14925373134328357, 0.04], \"type\": \"bar\", \"uid\": \"d935fd78-8cf9-11e8-bf79-843a4b06963c\"}, {\"name\": \"returned\", \"x\": [1.0, 2.0, 3.0, 4.0, 5.0], \"y\": [0.15580016934801016, 0.21906354515050167, 0.27340823970037453, 0.291044776119403, 0.3466666666666667], \"type\": \"bar\", \"uid\": \"d935fd79-8cf9-11e8-bf79-843a4b06963c\"}, {\"name\": \"lost\", \"x\": [1.0, 2.0, 3.0, 4.0, 5.0], \"y\": [0.7277730736663844, 0.6387959866220736, 0.5655430711610487, 0.5597014925373134, 0.6133333333333333], \"type\": \"bar\", \"uid\": \"d935fd7a-8cf9-11e8-bf79-843a4b06963c\"}],\n",
       "            {\"barmode\": \"stack\", \"title\": \"Customers Status by Max Order Number\", \"xaxis\": {\"title\": \"Max Order Number\"}, \"yaxis\": {\"title\": \"Ratio\"}},\n",
       "            {\"showLink\": false, \"linkText\": \"Export to plot.ly\"}\n",
       "        ).then(function () {return Plotly.addFrames('35d1aa86-c047-452d-88da-12e029e2c3ba',{});}).then(function(){Plotly.animate('35d1aa86-c047-452d-88da-12e029e2c3ba');})\n",
       "        });</script>"
      ]
     },
     "metadata": {},
     "output_type": "display_data"
    }
   ],
   "source": [
    "trace1 = go.Bar(\n",
    "    x=Data_filtered.max_order_number[Data_filtered.customer_return_status == 'N/A'],\n",
    "    y=Data_filtered.ratio[Data_filtered.customer_return_status == 'N/A'],\n",
    "    name='N/A'\n",
    ")\n",
    "trace2 = go.Bar(\n",
    "    x=Data_filtered.max_order_number[Data_filtered.customer_return_status == 'returned'],\n",
    "    y=Data_filtered.ratio[Data_filtered.customer_return_status == 'returned'],\n",
    "    name='returned'\n",
    ")\n",
    "\n",
    "trace3 = go.Bar(\n",
    "    x=Data_filtered.max_order_number[Data_filtered.customer_return_status == 'lost'],\n",
    "    y=Data_filtered.ratio[Data_filtered.customer_return_status == 'lost'],\n",
    "    name='lost'\n",
    ")\n",
    "\n",
    "data = [trace1, trace2, trace3]\n",
    "layout = go.Layout(\n",
    "    barmode='stack',\n",
    "    title='Customers Status by Max Order Number',\n",
    "    xaxis={'title': 'Max Order Number'},\n",
    "    yaxis={'title': 'Ratio'},\n",
    ")\n",
    "fig = go.Figure(data=data, layout=layout)\n",
    "iplot(fig, show_link=False)"
   ]
  },
  {
   "cell_type": "markdown",
   "metadata": {},
   "source": [
    "### Hypothesis testing\n",
    "\n",
    "H0 = there is no difference between ratio of lost users by maximum order number\n",
    "\n",
    "H1 = there is a significant difference"
   ]
  },
  {
   "cell_type": "code",
   "execution_count": 55,
   "metadata": {},
   "outputs": [],
   "source": [
    "def check_diff(max_number_1, max_number_2, alpha = 0.05):\n",
    "    \"\"\"\n",
    "    Function calculates p-value for two proportions (number of lost customers / total number of customers), \n",
    "    compares with significance level (alpha) and prints if we can reject null hypothesis.\n",
    "    \n",
    "    Input:\n",
    "    max_number_1 - Number of maximum of customer_order_number as first test group (1/2/...)\n",
    "    max_number_2 - Number of maximum of customer_order_number as second test group (1/2/...)\n",
    "    alpha - significance level. Default level is 0.05 (to be 95% confident)\n",
    "    \n",
    "    Output:\n",
    "    1 - p-value\n",
    "    2 - ability to reject null hypothesis\n",
    "    \n",
    "    \"\"\"\n",
    "    lost_1 = Data_filtered.amount[(Data_filtered.max_order_number == max_number_1) & (Data_filtered.customer_return_status == 'lost')]\n",
    "    total_1 = Data_filtered.total_amount[(Data_filtered.max_order_number == max_number_1) & (Data_filtered.customer_return_status == 'lost')]\n",
    "\n",
    "    lost_2 = Data_filtered.amount[(Data_filtered.max_order_number == max_number_2) & (Data_filtered.customer_return_status == 'lost')]\n",
    "    total_2 = Data_filtered.total_amount[(Data_filtered.max_order_number == max_number_2) & (Data_filtered.customer_return_status == 'lost')]\n",
    "    \n",
    "    count = np.array([int(lost_1), int(lost_2)]) #lost customers\n",
    "    nobs = np.array([int(total_1), int(total_2)]) #total number of customers\n",
    "    stat, pval = proportions_ztest(count, nobs)\n",
    "    print('Significance level (alpha) = ', alpha)\n",
    "    print('P-value = %.4f' %(pval))\n",
    "    if(pval<alpha):\n",
    "        print('P-value < significance level. Reject null hypothesis (difference is significant).')\n",
    "    else:\n",
    "        print('P-value > significance level. Can not reject null hypothesis (difference is not significant).')"
   ]
  },
  {
   "cell_type": "code",
   "execution_count": 56,
   "metadata": {},
   "outputs": [
    {
     "name": "stdout",
     "output_type": "stream",
     "text": [
      "Significance level (alpha) =  0.05\n",
      "P-value = 0.0000\n",
      "P-value < significance level. Reject null hypothesis (difference is significant).\n"
     ]
    }
   ],
   "source": [
    "check_diff(1, 2)"
   ]
  },
  {
   "cell_type": "code",
   "execution_count": 57,
   "metadata": {},
   "outputs": [
    {
     "name": "stdout",
     "output_type": "stream",
     "text": [
      "Significance level (alpha) =  0.05\n",
      "P-value = 0.0407\n",
      "P-value < significance level. Reject null hypothesis (difference is significant).\n"
     ]
    }
   ],
   "source": [
    "check_diff(2, 3)"
   ]
  },
  {
   "cell_type": "code",
   "execution_count": 58,
   "metadata": {},
   "outputs": [
    {
     "name": "stdout",
     "output_type": "stream",
     "text": [
      "Significance level (alpha) =  0.05\n",
      "P-value = 0.9114\n",
      "P-value > significance level. Can not reject null hypothesis (difference is not significant).\n"
     ]
    }
   ],
   "source": [
    "check_diff(3, 4)"
   ]
  },
  {
   "cell_type": "code",
   "execution_count": 59,
   "metadata": {},
   "outputs": [
    {
     "name": "stdout",
     "output_type": "stream",
     "text": [
      "Significance level (alpha) =  0.05\n",
      "P-value = 0.4513\n",
      "P-value > significance level. Can not reject null hypothesis (difference is not significant).\n"
     ]
    }
   ],
   "source": [
    "check_diff(4, 5)"
   ]
  },
  {
   "cell_type": "markdown",
   "metadata": {},
   "source": [
    "**Seems like customers with who made just one or two orders trend not to make second (third) order in the future.**"
   ]
  },
  {
   "cell_type": "markdown",
   "metadata": {},
   "source": [
    "### Customer retention after order was canceled vs successfully finished"
   ]
  },
  {
   "cell_type": "code",
   "execution_count": 60,
   "metadata": {},
   "outputs": [
    {
     "data": {
      "text/html": [
       "<div>\n",
       "<style>\n",
       "    .dataframe thead tr:only-child th {\n",
       "        text-align: right;\n",
       "    }\n",
       "\n",
       "    .dataframe thead th {\n",
       "        text-align: left;\n",
       "    }\n",
       "\n",
       "    .dataframe tbody tr th {\n",
       "        vertical-align: top;\n",
       "    }\n",
       "</style>\n",
       "<table border=\"1\" class=\"dataframe\">\n",
       "  <thead>\n",
       "    <tr style=\"text-align: right;\">\n",
       "      <th></th>\n",
       "      <th>canceled_orders</th>\n",
       "      <th>total_orders</th>\n",
       "      <th>ratio</th>\n",
       "    </tr>\n",
       "    <tr>\n",
       "      <th>customer_return_status</th>\n",
       "      <th></th>\n",
       "      <th></th>\n",
       "      <th></th>\n",
       "    </tr>\n",
       "  </thead>\n",
       "  <tbody>\n",
       "    <tr>\n",
       "      <th>N/A</th>\n",
       "      <td>66</td>\n",
       "      <td>547</td>\n",
       "      <td>0.120658</td>\n",
       "    </tr>\n",
       "    <tr>\n",
       "      <th>lost</th>\n",
       "      <td>263</td>\n",
       "      <td>3545</td>\n",
       "      <td>0.074189</td>\n",
       "    </tr>\n",
       "    <tr>\n",
       "      <th>returned</th>\n",
       "      <td>89</td>\n",
       "      <td>1030</td>\n",
       "      <td>0.086408</td>\n",
       "    </tr>\n",
       "  </tbody>\n",
       "</table>\n",
       "</div>"
      ],
      "text/plain": [
       "                        canceled_orders  total_orders     ratio\n",
       "customer_return_status                                         \n",
       "N/A                                  66           547  0.120658\n",
       "lost                                263          3545  0.074189\n",
       "returned                             89          1030  0.086408"
      ]
     },
     "execution_count": 60,
     "metadata": {},
     "output_type": "execute_result"
    }
   ],
   "source": [
    "retention_df = pd.merge(Data_status.groupby('customer_return_status')[['is_canceled']].sum(),\n",
    "                        Data_status.groupby('customer_return_status')[['is_canceled']].count(),\n",
    "                        left_index=True, right_index=True,\n",
    "                        how='left')\n",
    "retention_df = retention_df.rename(columns={'is_canceled_x': 'canceled_orders', 'is_canceled_y': 'total_orders'})\n",
    "retention_df['ratio'] = retention_df.canceled_orders / retention_df.total_orders\n",
    "retention_df"
   ]
  },
  {
   "cell_type": "markdown",
   "metadata": {},
   "source": [
    "### Check the ratio of two proportions:\n",
    "\n",
    "H0 = there is no difference between ratio of canceled orders for returned and lost customers\n",
    "\n",
    "H1 = there is a significant difference\n",
    "\n",
    "$\\alpha$ = 0.05"
   ]
  },
  {
   "cell_type": "code",
   "execution_count": 61,
   "metadata": {},
   "outputs": [
    {
     "name": "stdout",
     "output_type": "stream",
     "text": [
      "P-value = 0.1952\n"
     ]
    }
   ],
   "source": [
    "count = np.array([263, 89]) #canceled_orders\n",
    "nobs = np.array([3545, 1030]) #total_orders\n",
    "stat, pval = proportions_ztest(count, nobs)\n",
    "print('P-value = %.4f' %(pval))"
   ]
  },
  {
   "cell_type": "markdown",
   "metadata": {},
   "source": [
    "**P-value > $\\alpha$.**\n",
    "\n",
    "**We cannot reject null hypothesis, so we can not say if people with canceled orders trend to come back or not. **"
   ]
  }
 ],
 "metadata": {
  "kernelspec": {
   "display_name": "Python [conda root]",
   "language": "python",
   "name": "conda-root-py"
  },
  "language_info": {
   "codemirror_mode": {
    "name": "ipython",
    "version": 3
   },
   "file_extension": ".py",
   "mimetype": "text/x-python",
   "name": "python",
   "nbconvert_exporter": "python",
   "pygments_lexer": "ipython3",
   "version": "3.6.3"
  }
 },
 "nbformat": 4,
 "nbformat_minor": 2
}
