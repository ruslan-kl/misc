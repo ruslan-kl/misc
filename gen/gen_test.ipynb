{
 "cells": [
  {
   "cell_type": "code",
   "execution_count": 1,
   "metadata": {
    "collapsed": true
   },
   "outputs": [],
   "source": [
    "#importing all the packages and modelus needed\n",
    "import pandas as pd\n",
    "import numpy as np\n",
    "import xgboost as xgb\n",
    "import missingno as msno\n",
    "import matplotlib.pyplot as plt\n",
    "from tqdm import tqdm\n",
    "%matplotlib inline\n",
    "from sklearn.model_selection import train_test_split, GridSearchCV\n",
    "from sklearn.metrics import confusion_matrix, classification_report, \\\n",
    "accuracy_score, recall_score, precision_score\n",
    "from sklearn.feature_selection import SelectFromModel\n",
    "from xgboost import plot_importance"
   ]
  },
  {
   "cell_type": "code",
   "execution_count": 2,
   "metadata": {
    "collapsed": true
   },
   "outputs": [],
   "source": [
    "#loading the data\n",
    "X = pd.read_csv(\"train.csv\", header=None)\n",
    "y = pd.read_csv(\"train_labels.csv\", header=None)\n",
    "val_data = pd.read_csv(\"test.csv\", header=None)\n",
    "final_df = pd.read_csv(\"test.csv\", header=None)"
   ]
  },
  {
   "cell_type": "code",
   "execution_count": 3,
   "metadata": {},
   "outputs": [
    {
     "name": "stdout",
     "output_type": "stream",
     "text": [
      "<class 'pandas.core.frame.DataFrame'>\n",
      "RangeIndex: 20468 entries, 0 to 20467\n",
      "Columns: 112 entries, 0 to 111\n",
      "dtypes: float64(89), int64(23)\n",
      "memory usage: 17.5 MB\n"
     ]
    }
   ],
   "source": [
    "X.info() #overview of the dataframe"
   ]
  },
  {
   "cell_type": "code",
   "execution_count": 4,
   "metadata": {},
   "outputs": [
    {
     "name": "stdout",
     "output_type": "stream",
     "text": [
      "<class 'pandas.core.frame.DataFrame'>\n",
      "RangeIndex: 1812 entries, 0 to 1811\n",
      "Columns: 112 entries, 0 to 111\n",
      "dtypes: float64(89), int64(23)\n",
      "memory usage: 1.5 MB\n"
     ]
    }
   ],
   "source": [
    "val_data.info()"
   ]
  },
  {
   "cell_type": "code",
   "execution_count": 5,
   "metadata": {},
   "outputs": [
    {
     "name": "stdout",
     "output_type": "stream",
     "text": [
      "[1 0]\n"
     ]
    }
   ],
   "source": [
    "#replacing the class '2' to class '1'\n",
    "y[0] = y[0].replace(2, 1) \n",
    "y = pd.Series(y[0])\n",
    "print(y.unique())"
   ]
  },
  {
   "cell_type": "code",
   "execution_count": 6,
   "metadata": {},
   "outputs": [
    {
     "name": "stdout",
     "output_type": "stream",
     "text": [
      "15\n",
      "18\n"
     ]
    }
   ],
   "source": [
    "#check how many columns have just 0 values\n",
    "print(X.loc[:,X.sum() == 0].shape[1]) \n",
    "print(val_data.loc[:,val_data.sum() == 0].shape[1])"
   ]
  },
  {
   "cell_type": "code",
   "execution_count": 7,
   "metadata": {},
   "outputs": [
    {
     "name": "stdout",
     "output_type": "stream",
     "text": [
      "Int64Index([72, 73, 74], dtype='int64')\n"
     ]
    }
   ],
   "source": [
    "#check the indeces of zero-columns from val_data that are not empty in X dataframe\n",
    "temp = pd.Series(X.sum() == 0) == (val_data.sum() == 0)\n",
    "print(temp[temp.isin([False])].index)"
   ]
  },
  {
   "cell_type": "code",
   "execution_count": 8,
   "metadata": {},
   "outputs": [
    {
     "name": "stdout",
     "output_type": "stream",
     "text": [
      "True\n"
     ]
    }
   ],
   "source": [
    "#since the val_data set has more zero-columns we have to remove just those columns that are equal for both dataframes\n",
    "val_data = val_data.loc[:,X.sum() != 0]\n",
    "X = X.loc[:,X.sum() != 0]\n",
    "\n",
    "print(X.shape[1] == val_data.shape[1]) #check if the number of columns is the same"
   ]
  },
  {
   "cell_type": "code",
   "execution_count": 9,
   "metadata": {},
   "outputs": [
    {
     "ename": "UnboundLocalError",
     "evalue": "local variable 'ax2' referenced before assignment",
     "output_type": "error",
     "traceback": [
      "\u001b[0;31m---------------------------------------------------------------------------\u001b[0m",
      "\u001b[0;31mUnboundLocalError\u001b[0m                         Traceback (most recent call last)",
      "\u001b[0;32m<ipython-input-9-102dba65a164>\u001b[0m in \u001b[0;36m<module>\u001b[0;34m()\u001b[0m\n\u001b[1;32m      1\u001b[0m \u001b[0;31m#checking for missing values\u001b[0m\u001b[0;34m\u001b[0m\u001b[0;34m\u001b[0m\u001b[0m\n\u001b[0;32m----> 2\u001b[0;31m \u001b[0mmsno\u001b[0m\u001b[0;34m.\u001b[0m\u001b[0mbar\u001b[0m\u001b[0;34m(\u001b[0m\u001b[0mX\u001b[0m\u001b[0;34m)\u001b[0m\u001b[0;34m\u001b[0m\u001b[0m\n\u001b[0m",
      "\u001b[0;32m~/Soft/anaconda3/lib/python3.6/site-packages/missingno/missingno.py\u001b[0m in \u001b[0;36mbar\u001b[0;34m(df, figsize, fontsize, labels, log, color, inline, filter, n, p, sort)\u001b[0m\n\u001b[1;32m    245\u001b[0m     \u001b[0max3\u001b[0m\u001b[0;34m.\u001b[0m\u001b[0mgrid\u001b[0m\u001b[0;34m(\u001b[0m\u001b[0;32mFalse\u001b[0m\u001b[0;34m)\u001b[0m\u001b[0;34m\u001b[0m\u001b[0m\n\u001b[1;32m    246\u001b[0m \u001b[0;34m\u001b[0m\u001b[0m\n\u001b[0;32m--> 247\u001b[0;31m     \u001b[0;32mfor\u001b[0m \u001b[0max\u001b[0m \u001b[0;32min\u001b[0m \u001b[0;34m[\u001b[0m\u001b[0max1\u001b[0m\u001b[0;34m,\u001b[0m \u001b[0max2\u001b[0m\u001b[0;34m,\u001b[0m \u001b[0max3\u001b[0m\u001b[0;34m]\u001b[0m\u001b[0;34m:\u001b[0m\u001b[0;34m\u001b[0m\u001b[0m\n\u001b[0m\u001b[1;32m    248\u001b[0m         \u001b[0max\u001b[0m\u001b[0;34m.\u001b[0m\u001b[0mspines\u001b[0m\u001b[0;34m[\u001b[0m\u001b[0;34m'top'\u001b[0m\u001b[0;34m]\u001b[0m\u001b[0;34m.\u001b[0m\u001b[0mset_visible\u001b[0m\u001b[0;34m(\u001b[0m\u001b[0;32mFalse\u001b[0m\u001b[0;34m)\u001b[0m\u001b[0;34m\u001b[0m\u001b[0m\n\u001b[1;32m    249\u001b[0m         \u001b[0max\u001b[0m\u001b[0;34m.\u001b[0m\u001b[0mspines\u001b[0m\u001b[0;34m[\u001b[0m\u001b[0;34m'right'\u001b[0m\u001b[0;34m]\u001b[0m\u001b[0;34m.\u001b[0m\u001b[0mset_visible\u001b[0m\u001b[0;34m(\u001b[0m\u001b[0;32mFalse\u001b[0m\u001b[0;34m)\u001b[0m\u001b[0;34m\u001b[0m\u001b[0m\n",
      "\u001b[0;31mUnboundLocalError\u001b[0m: local variable 'ax2' referenced before assignment"
     ]
    },
    {
     "data": {
      "image/png": "[encoded data removed]",
      "text/plain": [
       "<matplotlib.figure.Figure at 0x7f1a4678a828>"
      ]
     },
     "metadata": {},
     "output_type": "display_data"
    }
   ],
   "source": [
    "#checking for missing values\n",
    "msno.bar(X)"
   ]
  },
  {
   "cell_type": "code",
   "execution_count": 10,
   "metadata": {},
   "outputs": [
    {
     "ename": "UnboundLocalError",
     "evalue": "local variable 'ax2' referenced before assignment",
     "output_type": "error",
     "traceback": [
      "\u001b[0;31m---------------------------------------------------------------------------\u001b[0m",
      "\u001b[0;31mUnboundLocalError\u001b[0m                         Traceback (most recent call last)",
      "\u001b[0;32m<ipython-input-10-a6ec20ef342e>\u001b[0m in \u001b[0;36m<module>\u001b[0;34m()\u001b[0m\n\u001b[0;32m----> 1\u001b[0;31m \u001b[0mmsno\u001b[0m\u001b[0;34m.\u001b[0m\u001b[0mbar\u001b[0m\u001b[0;34m(\u001b[0m\u001b[0mval_data\u001b[0m\u001b[0;34m)\u001b[0m\u001b[0;34m\u001b[0m\u001b[0m\n\u001b[0m",
      "\u001b[0;32m~/Soft/anaconda3/lib/python3.6/site-packages/missingno/missingno.py\u001b[0m in \u001b[0;36mbar\u001b[0;34m(df, figsize, fontsize, labels, log, color, inline, filter, n, p, sort)\u001b[0m\n\u001b[1;32m    245\u001b[0m     \u001b[0max3\u001b[0m\u001b[0;34m.\u001b[0m\u001b[0mgrid\u001b[0m\u001b[0;34m(\u001b[0m\u001b[0;32mFalse\u001b[0m\u001b[0;34m)\u001b[0m\u001b[0;34m\u001b[0m\u001b[0m\n\u001b[1;32m    246\u001b[0m \u001b[0;34m\u001b[0m\u001b[0m\n\u001b[0;32m--> 247\u001b[0;31m     \u001b[0;32mfor\u001b[0m \u001b[0max\u001b[0m \u001b[0;32min\u001b[0m \u001b[0;34m[\u001b[0m\u001b[0max1\u001b[0m\u001b[0;34m,\u001b[0m \u001b[0max2\u001b[0m\u001b[0;34m,\u001b[0m \u001b[0max3\u001b[0m\u001b[0;34m]\u001b[0m\u001b[0;34m:\u001b[0m\u001b[0;34m\u001b[0m\u001b[0m\n\u001b[0m\u001b[1;32m    248\u001b[0m         \u001b[0max\u001b[0m\u001b[0;34m.\u001b[0m\u001b[0mspines\u001b[0m\u001b[0;34m[\u001b[0m\u001b[0;34m'top'\u001b[0m\u001b[0;34m]\u001b[0m\u001b[0;34m.\u001b[0m\u001b[0mset_visible\u001b[0m\u001b[0;34m(\u001b[0m\u001b[0;32mFalse\u001b[0m\u001b[0;34m)\u001b[0m\u001b[0;34m\u001b[0m\u001b[0m\n\u001b[1;32m    249\u001b[0m         \u001b[0max\u001b[0m\u001b[0;34m.\u001b[0m\u001b[0mspines\u001b[0m\u001b[0;34m[\u001b[0m\u001b[0;34m'right'\u001b[0m\u001b[0;34m]\u001b[0m\u001b[0;34m.\u001b[0m\u001b[0mset_visible\u001b[0m\u001b[0;34m(\u001b[0m\u001b[0;32mFalse\u001b[0m\u001b[0;34m)\u001b[0m\u001b[0;34m\u001b[0m\u001b[0m\n",
      "\u001b[0;31mUnboundLocalError\u001b[0m: local variable 'ax2' referenced before assignment"
     ]
    },
    {
     "data": {
      "image/png": "[encoded data removed]",
      "text/plain": [
       "<matplotlib.figure.Figure at 0x7f1a242830b8>"
      ]
     },
     "metadata": {},
     "output_type": "display_data"
    }
   ],
   "source": [
    "msno.bar(val_data)"
   ]
  },
  {
   "cell_type": "code",
   "execution_count": 11,
   "metadata": {},
   "outputs": [
    {
     "data": {
      "text/plain": [
       "0"
      ]
     },
     "execution_count": 11,
     "metadata": {},
     "output_type": "execute_result"
    }
   ],
   "source": [
    "y.isnull().sum()"
   ]
  },
  {
   "cell_type": "code",
   "execution_count": 12,
   "metadata": {},
   "outputs": [
    {
     "data": {
      "image/png": "[encoded data removed]",
      "text/plain": [
       "<matplotlib.figure.Figure at 0x7f1a22fdeac8>"
      ]
     },
     "metadata": {},
     "output_type": "display_data"
    }
   ],
   "source": [
    "#plot the correlation matrix\n",
    "correlations = X.corr() #matrix of correlation values\n",
    "fig = plt.figure(figsize=(12,12)) #set the plot size\n",
    "ax = fig.add_subplot(111) \n",
    "cax = ax.matshow(correlations, vmin=-1, vmax=1) #bar with correlation legend [-1, 1]\n",
    "fig.colorbar(cax)\n",
    "ticks = np.arange(0,X.shape[1],1)\n",
    "ax.set_xticks(ticks)\n",
    "ax.set_yticks(ticks)\n",
    "plt.xticks(rotation=90)\n",
    "ax.set_xticklabels(X.columns.values.tolist())\n",
    "ax.set_yticklabels(X.columns.values.tolist())\n",
    "plt.show()"
   ]
  },
  {
   "cell_type": "code",
   "execution_count": 13,
   "metadata": {},
   "outputs": [
    {
     "name": "stdout",
     "output_type": "stream",
     "text": [
      "Number of columns in old DF: 97\n",
      "Number of columns in new DF: 81\n"
     ]
    }
   ],
   "source": [
    "#defining a funtion that removes correlated columns from DF\n",
    "def correlation(dataset, threshold):\n",
    "    corr_matrix = dataset.corr().abs() #matrix of absolute correlation values\n",
    "    for i in range(len(corr_matrix.columns)):\n",
    "        for j in range(i):\n",
    "            if corr_matrix.iloc[i, j] >= threshold: #check if correlation if higher than given number\n",
    "                colname = corr_matrix.columns[i] # getting the name of column\n",
    "                if colname in dataset.columns:\n",
    "                    del dataset[colname] # deleting the column from the dataset\n",
    "\n",
    "X_cleaned = X.copy() #copy X DF to a new one\n",
    "correlation(X_cleaned, 0.9) #remove those columns that have correlation higher than 0.9\n",
    "\n",
    "#check how many columns were deleted\n",
    "print(\"Number of columns in old DF: %i\" % X.shape[1])\n",
    "print(\"Number of columns in new DF: %i\" % X_cleaned.shape[1])"
   ]
  },
  {
   "cell_type": "code",
   "execution_count": 14,
   "metadata": {
    "collapsed": true
   },
   "outputs": [],
   "source": [
    "#remove correlated columns for val_data DF\n",
    "val_data_cleaned = val_data.loc[:, X_cleaned.columns]"
   ]
  },
  {
   "cell_type": "code",
   "execution_count": 15,
   "metadata": {
    "collapsed": true
   },
   "outputs": [],
   "source": [
    "#split X DF into train/test sets (75%/25%)\n",
    "X_train, X_test, y_train, y_test = train_test_split(X_cleaned, y, test_size=0.25, random_state=123)"
   ]
  },
  {
   "cell_type": "code",
   "execution_count": 16,
   "metadata": {},
   "outputs": [
    {
     "name": "stdout",
     "output_type": "stream",
     "text": [
      "             precision    recall  f1-score   support\n",
      "\n",
      "          0       0.94      0.97      0.95      3775\n",
      "          1       0.89      0.82      0.85      1342\n",
      "\n",
      "avg / total       0.93      0.93      0.93      5117\n",
      "\n",
      "\n",
      "Accuracy score: 0.93\n"
     ]
    }
   ],
   "source": [
    "#train the simple Extreme Gradient Boosting Classifier model\n",
    "xgb_model_0 = xgb.XGBClassifier(objective='binary:logistic', seed=123) \n",
    "xgb_model_0.fit(X_train, y_train) #train the model on train set\n",
    "y_pred = xgb_model_0.predict(X_test) #predict on test set\n",
    "print(classification_report(y_test, y_pred)) #print the performance\n",
    "print('\\nAccuracy score: %.2f' % accuracy_score(y_test, y_pred))"
   ]
  },
  {
   "cell_type": "markdown",
   "metadata": {},
   "source": [
    "We are interested in Precision (>= 95%) and Recall (AHAP) of class 1 prediction. Right now they are equal to: \n",
    "\n",
    "Precision = 0.89\n",
    "Recall = 0.82\n",
    "\n",
    "So we need to tune the model to improve performance. I will use Grid Searching which is scanning the data to configure optimal parameters for a given model."
   ]
  },
  {
   "cell_type": "code",
   "execution_count": 17,
   "metadata": {
    "collapsed": true
   },
   "outputs": [],
   "source": [
    "#defining the model for fitting a model with grid search matrix as parameter\n",
    "def model_fitting(grid):\n",
    "    y_pred = []\n",
    "    model = []\n",
    "    temp = []\n",
    "    #set 'precision' to check which values return the highest precision level\n",
    "    model = GridSearchCV(estimator=xgb.XGBClassifier(seed=123), param_grid=grid,\n",
    "                         scoring='precision', verbose=True) \n",
    "    model.fit(X_train, y_train)\n",
    "    print(\"Best parameters found: \", model.best_params_) #print the best parameters\n",
    "    y_pred = model.predict(X_test)\n",
    "    print(classification_report(y_test, y_pred))"
   ]
  },
  {
   "cell_type": "code",
   "execution_count": 18,
   "metadata": {},
   "outputs": [
    {
     "name": "stdout",
     "output_type": "stream",
     "text": [
      "Fitting 3 folds for each of 3 candidates, totalling 9 fits\n"
     ]
    },
    {
     "name": "stderr",
     "output_type": "stream",
     "text": [
      "[Parallel(n_jobs=1)]: Done   9 out of   9 | elapsed:   24.0s finished\n"
     ]
    },
    {
     "name": "stdout",
     "output_type": "stream",
     "text": [
      "Best parameters found:  {'colsample_bytree': 0.2}\n",
      "             precision    recall  f1-score   support\n",
      "\n",
      "          0       0.93      0.96      0.95      3775\n",
      "          1       0.89      0.80      0.84      1342\n",
      "\n",
      "avg / total       0.92      0.92      0.92      5117\n",
      "\n"
     ]
    }
   ],
   "source": [
    "#finding the best parameter of subsample ratio of columns\n",
    "gbm_param_grid = {\n",
    "    'colsample_bytree': [0.2, 0.5, 1]\n",
    "}\n",
    "model_fitting(gbm_param_grid) #call for function"
   ]
  },
  {
   "cell_type": "code",
   "execution_count": 19,
   "metadata": {},
   "outputs": [
    {
     "name": "stdout",
     "output_type": "stream",
     "text": [
      "Fitting 3 folds for each of 3 candidates, totalling 9 fits\n"
     ]
    },
    {
     "name": "stderr",
     "output_type": "stream",
     "text": [
      "[Parallel(n_jobs=1)]: Done   9 out of   9 | elapsed:   26.7s finished\n"
     ]
    },
    {
     "name": "stdout",
     "output_type": "stream",
     "text": [
      "Best parameters found:  {'colsample_bytree': 0.2, 'max_depth': 10}\n",
      "             precision    recall  f1-score   support\n",
      "\n",
      "          0       0.94      0.98      0.96      3775\n",
      "          1       0.92      0.83      0.87      1342\n",
      "\n",
      "avg / total       0.94      0.94      0.94      5117\n",
      "\n"
     ]
    }
   ],
   "source": [
    "#finding the best parameter of maximum tree depth\n",
    "gbm_param_grid = {\n",
    "    'colsample_bytree': [0.2],\n",
    "    'max_depth': [3, 7, 10]\n",
    "}\n",
    "model_fitting(gbm_param_grid)"
   ]
  },
  {
   "cell_type": "code",
   "execution_count": 20,
   "metadata": {},
   "outputs": [
    {
     "name": "stdout",
     "output_type": "stream",
     "text": [
      "Fitting 3 folds for each of 3 candidates, totalling 9 fits\n"
     ]
    },
    {
     "name": "stderr",
     "output_type": "stream",
     "text": [
      "[Parallel(n_jobs=1)]: Done   9 out of   9 | elapsed:   39.4s finished\n"
     ]
    },
    {
     "name": "stdout",
     "output_type": "stream",
     "text": [
      "Best parameters found:  {'colsample_bytree': 0.2, 'learning_rate': 0.01, 'max_depth': 10}\n",
      "             precision    recall  f1-score   support\n",
      "\n",
      "          0       0.90      0.99      0.94      3775\n",
      "          1       0.96      0.69      0.80      1342\n",
      "\n",
      "avg / total       0.92      0.91      0.91      5117\n",
      "\n"
     ]
    }
   ],
   "source": [
    "#finding the best parameter of boosting learning rate\n",
    "gbm_param_grid = {\n",
    "    'colsample_bytree': [0.2],\n",
    "    'max_depth': [10],\n",
    "    'learning_rate': [0.01, 0.1, 1]\n",
    "}\n",
    "model_fitting(gbm_param_grid)"
   ]
  },
  {
   "cell_type": "markdown",
   "metadata": {},
   "source": [
    "In cell 21 we could see that Precision was 0.92 with Learning Rate at default (=0.1), but after changing it to 0.01 Precision increased to 0.96. Recall was decreased significantly. So lets look deeper fot better Learning Rate parameter within the range [0.01, 0.1]"
   ]
  },
  {
   "cell_type": "code",
   "execution_count": 21,
   "metadata": {},
   "outputs": [
    {
     "name": "stdout",
     "output_type": "stream",
     "text": [
      "Fitting 3 folds for each of 1 candidates, totalling 3 fits\n"
     ]
    },
    {
     "name": "stderr",
     "output_type": "stream",
     "text": [
      "[Parallel(n_jobs=1)]: Done   3 out of   3 | elapsed:   13.7s finished\n"
     ]
    },
    {
     "name": "stdout",
     "output_type": "stream",
     "text": [
      "Best parameters found:  {'colsample_bytree': 0.2, 'learning_rate': 0.05, 'max_depth': 10}\n",
      "             precision    recall  f1-score   support\n",
      "\n",
      "          0       0.93      0.98      0.95      3775\n",
      "          1       0.93      0.79      0.85      1342\n",
      "\n",
      "avg / total       0.93      0.93      0.93      5117\n",
      "\n"
     ]
    }
   ],
   "source": [
    "gbm_param_grid = {\n",
    "    'colsample_bytree': [0.2],\n",
    "    'max_depth': [10],\n",
    "    'learning_rate': [0.05]\n",
    "}\n",
    "model_fitting(gbm_param_grid)"
   ]
  },
  {
   "cell_type": "code",
   "execution_count": 22,
   "metadata": {},
   "outputs": [
    {
     "name": "stdout",
     "output_type": "stream",
     "text": [
      "Fitting 3 folds for each of 1 candidates, totalling 3 fits\n"
     ]
    },
    {
     "name": "stderr",
     "output_type": "stream",
     "text": [
      "[Parallel(n_jobs=1)]: Done   3 out of   3 | elapsed:   13.3s finished\n"
     ]
    },
    {
     "name": "stdout",
     "output_type": "stream",
     "text": [
      "Best parameters found:  {'colsample_bytree': 0.2, 'learning_rate': 0.025, 'max_depth': 10}\n",
      "             precision    recall  f1-score   support\n",
      "\n",
      "          0       0.91      0.99      0.95      3775\n",
      "          1       0.95      0.73      0.83      1342\n",
      "\n",
      "avg / total       0.92      0.92      0.92      5117\n",
      "\n"
     ]
    }
   ],
   "source": [
    "gbm_param_grid = {\n",
    "    'colsample_bytree': [0.2],\n",
    "    'max_depth': [10],\n",
    "    'learning_rate': [0.025]\n",
    "}\n",
    "model_fitting(gbm_param_grid)"
   ]
  },
  {
   "cell_type": "code",
   "execution_count": 23,
   "metadata": {},
   "outputs": [
    {
     "name": "stdout",
     "output_type": "stream",
     "text": [
      "Fitting 3 folds for each of 3 candidates, totalling 9 fits\n"
     ]
    },
    {
     "name": "stderr",
     "output_type": "stream",
     "text": [
      "[Parallel(n_jobs=1)]: Done   9 out of   9 | elapsed:  1.8min finished\n"
     ]
    },
    {
     "name": "stdout",
     "output_type": "stream",
     "text": [
      "Best parameters found:  {'colsample_bytree': 0.2, 'learning_rate': 0.025, 'max_depth': 10, 'n_estimators': 100}\n",
      "             precision    recall  f1-score   support\n",
      "\n",
      "          0       0.91      0.99      0.95      3775\n",
      "          1       0.95      0.73      0.83      1342\n",
      "\n",
      "avg / total       0.92      0.92      0.92      5117\n",
      "\n"
     ]
    }
   ],
   "source": [
    "#finding the best parameter of number of boosted trees to fit\n",
    "gbm_param_grid = {\n",
    "    'colsample_bytree': [0.2],\n",
    "    'max_depth': [10],\n",
    "    'learning_rate': [0.025],\n",
    "    'n_estimators':[100, 200, 500]\n",
    "}\n",
    "model_fitting(gbm_param_grid)"
   ]
  },
  {
   "cell_type": "code",
   "execution_count": 24,
   "metadata": {},
   "outputs": [
    {
     "name": "stdout",
     "output_type": "stream",
     "text": [
      "Fitting 3 folds for each of 3 candidates, totalling 9 fits\n"
     ]
    },
    {
     "name": "stderr",
     "output_type": "stream",
     "text": [
      "[Parallel(n_jobs=1)]: Done   9 out of   9 | elapsed:   37.8s finished\n"
     ]
    },
    {
     "name": "stdout",
     "output_type": "stream",
     "text": [
      "Best parameters found:  {'colsample_bytree': 0.2, 'learning_rate': 0.025, 'max_depth': 10, 'min_child_weight': 1, 'n_estimators': 100}\n",
      "             precision    recall  f1-score   support\n",
      "\n",
      "          0       0.91      0.99      0.95      3775\n",
      "          1       0.95      0.73      0.83      1342\n",
      "\n",
      "avg / total       0.92      0.92      0.92      5117\n",
      "\n"
     ]
    }
   ],
   "source": [
    "#finding the best parameter of minimum sum of instance weight needed in a child\n",
    "gbm_param_grid = {\n",
    "    'colsample_bytree': [0.2],\n",
    "    'max_depth': [10],\n",
    "    'learning_rate': [0.025],\n",
    "    'n_estimators':[100],\n",
    "    'min_child_weight':[1, 5, 10]\n",
    "}\n",
    "model_fitting(gbm_param_grid)"
   ]
  },
  {
   "cell_type": "code",
   "execution_count": 25,
   "metadata": {},
   "outputs": [
    {
     "name": "stdout",
     "output_type": "stream",
     "text": [
      "Fitting 3 folds for each of 3 candidates, totalling 9 fits\n"
     ]
    },
    {
     "name": "stderr",
     "output_type": "stream",
     "text": [
      "[Parallel(n_jobs=1)]: Done   9 out of   9 | elapsed:   38.0s finished\n"
     ]
    },
    {
     "name": "stdout",
     "output_type": "stream",
     "text": [
      "Best parameters found:  {'colsample_bytree': 0.2, 'learning_rate': 0.025, 'max_depth': 10, 'min_child_weight': 1, 'n_estimators': 100, 'subsample': 1}\n",
      "             precision    recall  f1-score   support\n",
      "\n",
      "          0       0.91      0.99      0.95      3775\n",
      "          1       0.95      0.73      0.83      1342\n",
      "\n",
      "avg / total       0.92      0.92      0.92      5117\n",
      "\n"
     ]
    }
   ],
   "source": [
    "#finding the best parameter of minimum sum of subsample ratio of the training instance\n",
    "gbm_param_grid = {\n",
    "    'colsample_bytree': [0.2],\n",
    "    'max_depth': [10],\n",
    "    'learning_rate': [0.025],\n",
    "    'n_estimators':[100],\n",
    "    'min_child_weight':[1],\n",
    "    'subsample': [0.3, 0.5, 1]\n",
    "}\n",
    "model_fitting(gbm_param_grid)"
   ]
  },
  {
   "cell_type": "code",
   "execution_count": 26,
   "metadata": {},
   "outputs": [
    {
     "name": "stdout",
     "output_type": "stream",
     "text": [
      "Fitting 3 folds for each of 4 candidates, totalling 12 fits\n"
     ]
    },
    {
     "name": "stderr",
     "output_type": "stream",
     "text": [
      "[Parallel(n_jobs=1)]: Done  12 out of  12 | elapsed:   52.0s finished\n"
     ]
    },
    {
     "name": "stdout",
     "output_type": "stream",
     "text": [
      "Best parameters found:  {'colsample_bytree': 0.2, 'learning_rate': 0.025, 'max_depth': 10, 'min_child_weight': 1, 'n_estimators': 100, 'reg_alpha': 0.5, 'subsample': 1}\n",
      "             precision    recall  f1-score   support\n",
      "\n",
      "          0       0.91      0.99      0.95      3775\n",
      "          1       0.95      0.73      0.83      1342\n",
      "\n",
      "avg / total       0.92      0.92      0.92      5117\n",
      "\n"
     ]
    }
   ],
   "source": [
    "#finding the best parameter of L1 regularization term on weights\n",
    "gbm_param_grid = {\n",
    "    'colsample_bytree': [0.2],\n",
    "    'max_depth': [10],\n",
    "    'learning_rate': [0.025],\n",
    "    'n_estimators': [100],\n",
    "    'min_child_weight': [1],\n",
    "    'subsample': [1],\n",
    "    'reg_alpha': [0, 0.001, 0.01, 0.5]\n",
    "}\n",
    "model_fitting(gbm_param_grid)"
   ]
  },
  {
   "cell_type": "code",
   "execution_count": 28,
   "metadata": {},
   "outputs": [
    {
     "name": "stdout",
     "output_type": "stream",
     "text": [
      "             precision    recall  f1-score   support\n",
      "\n",
      "          0       0.91      0.99      0.95      3775\n",
      "          1       0.95      0.73      0.83      1342\n",
      "\n",
      "avg / total       0.92      0.92      0.92      5117\n",
      "\n",
      "[[3723   52]\n",
      " [ 357  985]]\n"
     ]
    }
   ],
   "source": [
    "\"\"\" The best precision/recall values for class 1 were obtained with the next parameters:\n",
    "{'colsample_bytree': 0.2, 'learning_rate': 0.025, 'max_depth': 10, 'min_child_weight': 1, \n",
    "'n_estimators': 100, 'reg_alpha': 0.5, 'subsample': 1}\n",
    "Building the final model with these parameters\n",
    "\"\"\"\n",
    "\n",
    "xgb_model = xgb.XGBClassifier(objective='binary:logistic',\n",
    "                              colsample_bytree=0.2,\n",
    "                              max_depth=10,\n",
    "                              learning_rate=0.025,\n",
    "                              min_child_weight=1,\n",
    "                              n_estimators=100,\n",
    "                              reg_alpha=0.5,\n",
    "                              subsample=1,\n",
    "                              seed=123                              \n",
    "                             )\n",
    "xgb_model.fit(X_train, y_train)\n",
    "y_pred = xgb_model.predict(X_test)\n",
    "print(classification_report(y_test, y_pred))\n",
    "print(confusion_matrix(y_test, y_pred))"
   ]
  },
  {
   "cell_type": "markdown",
   "metadata": {},
   "source": [
    "The next step is to check wether the performance can be improved by removing the variables that are not important for model prediction."
   ]
  },
  {
   "cell_type": "code",
   "execution_count": 29,
   "metadata": {},
   "outputs": [
    {
     "data": {
      "image/png": "[encoded data removed]",
      "text/plain": [
       "<matplotlib.figure.Figure at 0x7f1a22a73e80>"
      ]
     },
     "metadata": {},
     "output_type": "display_data"
    }
   ],
   "source": [
    "plt.rcParams['figure.figsize'] = [8, 10] #set the size of the plot\n",
    "plot_importance(xgb_model) #calling the function that returns the importance values\n",
    "plt.show()"
   ]
  },
  {
   "cell_type": "code",
   "execution_count": 30,
   "metadata": {
    "collapsed": true
   },
   "outputs": [],
   "source": [
    "#creating an array with sorted values of importance values\n",
    "thresholds = np.sort(xgb_model_0.feature_importances_) \n",
    "\n",
    "#creating a DF wich will hold information about number of variables and precision and recall values related to it\n",
    "selection_df = pd.DataFrame({'Thresh':[], 'n':[], 'Precision':[], 'Recall':[]})"
   ]
  },
  {
   "cell_type": "code",
   "execution_count": 31,
   "metadata": {},
   "outputs": [
    {
     "name": "stderr",
     "output_type": "stream",
     "text": [
      " 99%|█████████▉| 80/81 [05:53<00:04,  4.42s/it]/home/ruslan/Soft/anaconda3/lib/python3.6/site-packages/sklearn/feature_selection/base.py:80: UserWarning: No features were selected: either the data is too noisy or the selection test too strict.\n",
      "  UserWarning)\n",
      "/home/ruslan/Soft/anaconda3/lib/python3.6/site-packages/sklearn/feature_selection/base.py:80: UserWarning: No features were selected: either the data is too noisy or the selection test too strict.\n",
      "  UserWarning)\n",
      "/home/ruslan/Soft/anaconda3/lib/python3.6/site-packages/sklearn/metrics/classification.py:1135: UndefinedMetricWarning: Precision is ill-defined and being set to 0.0 due to no predicted samples.\n",
      "  'precision', 'predicted', average, warn_for)\n",
      "100%|██████████| 81/81 [05:54<00:00,  4.37s/it]\n"
     ]
    }
   ],
   "source": [
    "for thresh in tqdm(thresholds): #tqdm funtion visualizes the loading percantage\n",
    "    #select features using threshold\n",
    "    selection = SelectFromModel(xgb_model, threshold=thresh, prefit=True)\n",
    "    select_X_train = selection.transform(X_train) \n",
    "    select_xgb_model = xgb.XGBClassifier(objective='binary:logistic',\n",
    "                                         colsample_bytree=0.2,\n",
    "                                         max_depth=10,\n",
    "                                         learning_rate=0.025,\n",
    "                                         min_child_weight=1,\n",
    "                                         n_estimators=100,\n",
    "                                         reg_alpha=0.5,\n",
    "                                         subsample=1,\n",
    "                                         seed=123  \n",
    "                                        )\n",
    "    select_xgb_model.fit(select_X_train, y_train)\n",
    "    select_X_test = selection.transform(X_test)\n",
    "    y_pred_s = select_xgb_model.predict(select_X_test)\n",
    "    #writing data in DF for exploration\n",
    "    selection_df = selection_df.append({'Thresh':thresh, \n",
    "                                        'n':select_X_train.shape[1], #get number of variables used\n",
    "                                        'Precision':precision_score(y_true=y_test, y_pred=y_pred_s), \n",
    "                                        'Recall':recall_score(y_true=y_test, y_pred=y_pred_s)\n",
    "                                       }, ignore_index=True)"
   ]
  },
  {
   "cell_type": "code",
   "execution_count": 32,
   "metadata": {},
   "outputs": [
    {
     "data": {
      "text/html": [
       "<div>\n",
       "<style>\n",
       "    .dataframe thead tr:only-child th {\n",
       "        text-align: right;\n",
       "    }\n",
       "\n",
       "    .dataframe thead th {\n",
       "        text-align: left;\n",
       "    }\n",
       "\n",
       "    .dataframe tbody tr th {\n",
       "        vertical-align: top;\n",
       "    }\n",
       "</style>\n",
       "<table border=\"1\" class=\"dataframe\">\n",
       "  <thead>\n",
       "    <tr style=\"text-align: right;\">\n",
       "      <th></th>\n",
       "      <th>Precision</th>\n",
       "      <th>Recall</th>\n",
       "      <th>Thresh</th>\n",
       "      <th>n</th>\n",
       "    </tr>\n",
       "  </thead>\n",
       "  <tbody>\n",
       "    <tr>\n",
       "      <th>30</th>\n",
       "      <td>0.957529</td>\n",
       "      <td>0.739195</td>\n",
       "      <td>0.001488</td>\n",
       "      <td>70.0</td>\n",
       "    </tr>\n",
       "    <tr>\n",
       "      <th>68</th>\n",
       "      <td>0.951782</td>\n",
       "      <td>0.338301</td>\n",
       "      <td>0.031250</td>\n",
       "      <td>9.0</td>\n",
       "    </tr>\n",
       "    <tr>\n",
       "      <th>71</th>\n",
       "      <td>0.951782</td>\n",
       "      <td>0.338301</td>\n",
       "      <td>0.032738</td>\n",
       "      <td>9.0</td>\n",
       "    </tr>\n",
       "  </tbody>\n",
       "</table>\n",
       "</div>"
      ],
      "text/plain": [
       "    Precision    Recall    Thresh     n\n",
       "30   0.957529  0.739195  0.001488  70.0\n",
       "68   0.951782  0.338301  0.031250   9.0\n",
       "71   0.951782  0.338301  0.032738   9.0"
      ]
     },
     "execution_count": 32,
     "metadata": {},
     "output_type": "execute_result"
    }
   ],
   "source": [
    "#check the rows with Precision score higher than 95%\n",
    "selection_df[selection_df['Precision'] >= 0.95].drop_duplicates()"
   ]
  },
  {
   "cell_type": "markdown",
   "metadata": {},
   "source": [
    "There is a little room for improvement by decreasing number of variables to 70"
   ]
  },
  {
   "cell_type": "code",
   "execution_count": 33,
   "metadata": {
    "collapsed": true
   },
   "outputs": [],
   "source": [
    "#get the threshold value with maximum value of Precision and Recall\n",
    "thresh = float(selection_df.Thresh[selection_df.n == 70].drop_duplicates())"
   ]
  },
  {
   "cell_type": "code",
   "execution_count": 34,
   "metadata": {
    "collapsed": true
   },
   "outputs": [],
   "source": [
    "#re-run feature selection with specific threshold value\n",
    "selection = SelectFromModel(xgb_model, threshold=thresh, prefit=True)\n",
    "select_X_train = selection.transform(X_train)\n",
    "select_xgb_model = xgb.XGBClassifier(objective='binary:logistic',\\\n",
    "                                     colsample_bytree=0.2,\n",
    "                                     max_depth=10,\n",
    "                                     learning_rate=0.025,\n",
    "                                     min_child_weight=1,\n",
    "                                     n_estimators=100,\n",
    "                                     reg_alpha=0.5,\n",
    "                                     subsample=1,\n",
    "                                     seed=123  \n",
    "                                    )\n",
    "select_xgb_model.fit(select_X_train, y_train)\n",
    "select_X_test = selection.transform(X_test)\n",
    "y_pred_s = select_xgb_model.predict(select_X_test)"
   ]
  },
  {
   "cell_type": "code",
   "execution_count": 35,
   "metadata": {},
   "outputs": [
    {
     "name": "stdout",
     "output_type": "stream",
     "text": [
      "Model Performance: \n",
      "             precision    recall  f1-score   support\n",
      "\n",
      "          0       0.91      0.99      0.95      3775\n",
      "          1       0.96      0.74      0.83      1342\n",
      "\n",
      "avg / total       0.93      0.92      0.92      5117\n",
      "\n",
      "\n",
      "Confusion matrix:\n",
      "[[3731   44]\n",
      " [ 350  992]]\n",
      "\n",
      "Accuracy score: 0.92\n"
     ]
    }
   ],
   "source": [
    "#printing model performance\n",
    "print('Model Performance: \\n' + classification_report(y_test, y_pred_s))\n",
    "print('\\nConfusion matrix:')\n",
    "print(confusion_matrix(y_test, y_pred_s))\n",
    "print('\\nAccuracy score: %.2f' % accuracy_score(y_test, y_pred_s))"
   ]
  },
  {
   "cell_type": "code",
   "execution_count": 36,
   "metadata": {},
   "outputs": [
    {
     "data": {
      "text/plain": [
       "True"
      ]
     },
     "execution_count": 36,
     "metadata": {},
     "output_type": "execute_result"
    }
   ],
   "source": [
    "#transforming the validation set\n",
    "select_val_data = selection.transform(val_data_cleaned)\n",
    "#checking if the number of columns is equal between validation and train set\n",
    "select_val_data.shape[1] == select_X_train.shape[1]"
   ]
  },
  {
   "cell_type": "code",
   "execution_count": 37,
   "metadata": {
    "collapsed": true
   },
   "outputs": [],
   "source": [
    "y_pred_val = select_xgb_model.predict(select_val_data)"
   ]
  },
  {
   "cell_type": "code",
   "execution_count": 38,
   "metadata": {
    "collapsed": true
   },
   "outputs": [],
   "source": [
    "#creating new columns that will hold information about prediction values\n",
    "final_df[final_df.shape[1]] = pd.Series(y_pred_val, index=final_df.index)"
   ]
  },
  {
   "cell_type": "code",
   "execution_count": 39,
   "metadata": {},
   "outputs": [
    {
     "data": {
      "text/html": [
       "<div>\n",
       "<style>\n",
       "    .dataframe thead tr:only-child th {\n",
       "        text-align: right;\n",
       "    }\n",
       "\n",
       "    .dataframe thead th {\n",
       "        text-align: left;\n",
       "    }\n",
       "\n",
       "    .dataframe tbody tr th {\n",
       "        vertical-align: top;\n",
       "    }\n",
       "</style>\n",
       "<table border=\"1\" class=\"dataframe\">\n",
       "  <thead>\n",
       "    <tr style=\"text-align: right;\">\n",
       "      <th></th>\n",
       "      <th>0</th>\n",
       "      <th>1</th>\n",
       "      <th>2</th>\n",
       "      <th>3</th>\n",
       "      <th>4</th>\n",
       "      <th>5</th>\n",
       "      <th>6</th>\n",
       "      <th>7</th>\n",
       "      <th>8</th>\n",
       "      <th>9</th>\n",
       "      <th>...</th>\n",
       "      <th>103</th>\n",
       "      <th>104</th>\n",
       "      <th>105</th>\n",
       "      <th>106</th>\n",
       "      <th>107</th>\n",
       "      <th>108</th>\n",
       "      <th>109</th>\n",
       "      <th>110</th>\n",
       "      <th>111</th>\n",
       "      <th>prediction</th>\n",
       "    </tr>\n",
       "  </thead>\n",
       "  <tbody>\n",
       "    <tr>\n",
       "      <th>0</th>\n",
       "      <td>45</td>\n",
       "      <td>616</td>\n",
       "      <td>0</td>\n",
       "      <td>1</td>\n",
       "      <td>0</td>\n",
       "      <td>10</td>\n",
       "      <td>0</td>\n",
       "      <td>45</td>\n",
       "      <td>0</td>\n",
       "      <td>0</td>\n",
       "      <td>...</td>\n",
       "      <td>0.0</td>\n",
       "      <td>0.0</td>\n",
       "      <td>1.0</td>\n",
       "      <td>0.0</td>\n",
       "      <td>0.0</td>\n",
       "      <td>0.0</td>\n",
       "      <td>0.0</td>\n",
       "      <td>1.0</td>\n",
       "      <td>181.0</td>\n",
       "      <td>0</td>\n",
       "    </tr>\n",
       "    <tr>\n",
       "      <th>1</th>\n",
       "      <td>0</td>\n",
       "      <td>182</td>\n",
       "      <td>0</td>\n",
       "      <td>1</td>\n",
       "      <td>0</td>\n",
       "      <td>2</td>\n",
       "      <td>2</td>\n",
       "      <td>0</td>\n",
       "      <td>0</td>\n",
       "      <td>0</td>\n",
       "      <td>...</td>\n",
       "      <td>1.0</td>\n",
       "      <td>0.0</td>\n",
       "      <td>1.0</td>\n",
       "      <td>0.0</td>\n",
       "      <td>0.0</td>\n",
       "      <td>1.0</td>\n",
       "      <td>0.0</td>\n",
       "      <td>1.0</td>\n",
       "      <td>392.0</td>\n",
       "      <td>1</td>\n",
       "    </tr>\n",
       "    <tr>\n",
       "      <th>2</th>\n",
       "      <td>0</td>\n",
       "      <td>60</td>\n",
       "      <td>0</td>\n",
       "      <td>1</td>\n",
       "      <td>0</td>\n",
       "      <td>1</td>\n",
       "      <td>8</td>\n",
       "      <td>0</td>\n",
       "      <td>0</td>\n",
       "      <td>0</td>\n",
       "      <td>...</td>\n",
       "      <td>0.0</td>\n",
       "      <td>0.0</td>\n",
       "      <td>1.0</td>\n",
       "      <td>0.0</td>\n",
       "      <td>0.0</td>\n",
       "      <td>0.0</td>\n",
       "      <td>0.0</td>\n",
       "      <td>0.0</td>\n",
       "      <td>45.0</td>\n",
       "      <td>0</td>\n",
       "    </tr>\n",
       "    <tr>\n",
       "      <th>3</th>\n",
       "      <td>6</td>\n",
       "      <td>306</td>\n",
       "      <td>0</td>\n",
       "      <td>2</td>\n",
       "      <td>0</td>\n",
       "      <td>0</td>\n",
       "      <td>0</td>\n",
       "      <td>6</td>\n",
       "      <td>0</td>\n",
       "      <td>0</td>\n",
       "      <td>...</td>\n",
       "      <td>0.0</td>\n",
       "      <td>0.0</td>\n",
       "      <td>1.0</td>\n",
       "      <td>0.0</td>\n",
       "      <td>0.0</td>\n",
       "      <td>0.0</td>\n",
       "      <td>1.0</td>\n",
       "      <td>0.0</td>\n",
       "      <td>86.0</td>\n",
       "      <td>0</td>\n",
       "    </tr>\n",
       "    <tr>\n",
       "      <th>4</th>\n",
       "      <td>1</td>\n",
       "      <td>496</td>\n",
       "      <td>0</td>\n",
       "      <td>2</td>\n",
       "      <td>0</td>\n",
       "      <td>0</td>\n",
       "      <td>0</td>\n",
       "      <td>1</td>\n",
       "      <td>0</td>\n",
       "      <td>0</td>\n",
       "      <td>...</td>\n",
       "      <td>0.0</td>\n",
       "      <td>0.0</td>\n",
       "      <td>1.0</td>\n",
       "      <td>0.0</td>\n",
       "      <td>1.0</td>\n",
       "      <td>1.0</td>\n",
       "      <td>1.0</td>\n",
       "      <td>0.0</td>\n",
       "      <td>108.0</td>\n",
       "      <td>0</td>\n",
       "    </tr>\n",
       "  </tbody>\n",
       "</table>\n",
       "<p>5 rows × 113 columns</p>\n",
       "</div>"
      ],
      "text/plain": [
       "    0    1  2  3  4   5  6   7  8  9     ...      103  104  105  106  107  \\\n",
       "0  45  616  0  1  0  10  0  45  0  0     ...      0.0  0.0  1.0  0.0  0.0   \n",
       "1   0  182  0  1  0   2  2   0  0  0     ...      1.0  0.0  1.0  0.0  0.0   \n",
       "2   0   60  0  1  0   1  8   0  0  0     ...      0.0  0.0  1.0  0.0  0.0   \n",
       "3   6  306  0  2  0   0  0   6  0  0     ...      0.0  0.0  1.0  0.0  0.0   \n",
       "4   1  496  0  2  0   0  0   1  0  0     ...      0.0  0.0  1.0  0.0  1.0   \n",
       "\n",
       "   108  109  110    111  prediction  \n",
       "0  0.0  0.0  1.0  181.0           0  \n",
       "1  1.0  0.0  1.0  392.0           1  \n",
       "2  0.0  0.0  0.0   45.0           0  \n",
       "3  0.0  1.0  0.0   86.0           0  \n",
       "4  1.0  1.0  0.0  108.0           0  \n",
       "\n",
       "[5 rows x 113 columns]"
      ]
     },
     "execution_count": 39,
     "metadata": {},
     "output_type": "execute_result"
    }
   ],
   "source": [
    "final_df = final_df.rename(index=str, columns={final_df.shape[1]-1: \"prediction\"}) #rename it to 'prediction'\n",
    "final_df.head()"
   ]
  },
  {
   "cell_type": "code",
   "execution_count": 40,
   "metadata": {
    "collapsed": true
   },
   "outputs": [],
   "source": [
    "final_df.to_csv('result.csv', header=True) #writing DF to .csv file"
   ]
  }
 ],
 "metadata": {
  "kernelspec": {
   "display_name": "Python [default]",
   "language": "python",
   "name": "python3"
  },
  "language_info": {
   "codemirror_mode": {
    "name": "ipython",
    "version": 3
   },
   "file_extension": ".py",
   "mimetype": "text/x-python",
   "name": "python",
   "nbconvert_exporter": "python",
   "pygments_lexer": "ipython3",
   "version": "3.6.3"
  }
 },
 "nbformat": 4,
 "nbformat_minor": 2
}
